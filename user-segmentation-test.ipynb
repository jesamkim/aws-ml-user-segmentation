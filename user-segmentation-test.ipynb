{
 "cells": [
  {
   "cell_type": "markdown",
   "id": "1fe3b9c8-a3c5-4d02-aa23-5c4dbf7f11fe",
   "metadata": {},
   "source": [
    "# User Segmentation을 위한 미국 인구 조사 데이터 분석"
   ]
  },
  {
   "cell_type": "markdown",
   "id": "3ab9aa8b-963f-4fca-a850-9d43ed6683d2",
   "metadata": {},
   "source": [
    "<i>reference : https://aws.amazon.com/blogs/machine-learning/analyze-us-census-data-for-population-segmentation-using-amazon-sagemaker/ </i>"
   ]
  },
  {
   "cell_type": "markdown",
   "id": "40bba9b5-1ef6-4eac-9998-22a997aae7d1",
   "metadata": {
    "tags": []
   },
   "source": [
    "<I>Created by Jesam Kim (jesamkim@)\n",
    "</I>\n",
    "\n",
    "<B>select kernel : conda_mxnet_p37</B>\n",
    "\n",
    "1. Amazon S3에서 데이터 로드\n",
    "2. EDA (예비 데이터 분석) - 데이터 정리 및 탐색\n",
    "   > 데이터 정리, 데이터 시각화, feature 엔지니어링\n",
    "3. 데이터 모델링\n",
    "   > 차원 감소, PCA 모델 특성 액세스, PCA 모델 배포, 감독되지 않은 클러스터링을 사용한 User Segmentation\n",
    "4. 모델링에서 결론 도출\n",
    "   > KMeans 모델 속성에 액세스"
   ]
  },
  {
   "cell_type": "markdown",
   "id": "65bc23c8-b097-48b9-8880-a22528851374",
   "metadata": {},
   "source": [
    "## 1단계 : Amazon S3에서 데이터 로드"
   ]
  },
  {
   "cell_type": "code",
   "execution_count": 1,
   "id": "ce5b240d-a6d9-4469-b290-1496f311f49c",
   "metadata": {},
   "outputs": [],
   "source": [
    "import os\n",
    "import boto3\n",
    "import io\n",
    "import sagemaker\n",
    "\n",
    "%matplotlib inline\n",
    "\n",
    "import pandas as pd\n",
    "import numpy as np\n",
    "import mxnet as mx\n",
    "import matplotlib.pyplot as plt\n",
    "import matplotlib\n",
    "import seaborn as sns\n",
    "matplotlib.style.use('ggplot')\n",
    "import pickle, gzip, urllib, json\n",
    "import csv\n",
    "\n",
    "# get_execution_role 함수는 노트북 인스턴스를 생성할 때 IAM 역할을 검색\n",
    "from sagemaker import get_execution_role\n",
    "role = get_execution_role()"
   ]
  },
  {
   "cell_type": "markdown",
   "id": "f5018572-8b95-4fee-864e-55d341bfb4c6",
   "metadata": {},
   "source": [
    "### 데이터 집합 Load"
   ]
  },
  {
   "cell_type": "code",
   "execution_count": 9,
   "id": "71833236-4a37-479f-b4b2-f523b8f36857",
   "metadata": {},
   "outputs": [],
   "source": [
    "s3_clinet = boto3.client('s3')\n",
    "data_bucket_name = 'aws-ml-blog-sagemaker-census-segmentation'"
   ]
  },
  {
   "cell_type": "code",
   "execution_count": 13,
   "id": "18af6c6b-0eb3-400f-a578-a1d491595208",
   "metadata": {},
   "outputs": [
    {
     "name": "stdout",
     "output_type": "stream",
     "text": [
      "['Census_Data_for_SageMaker.csv']\n"
     ]
    }
   ],
   "source": [
    "# 버킷에 포함된 객체 목록을 가져옴\n",
    "\n",
    "obj_list = s3_clinet.list_objects(Bucket = data_bucket_name)\n",
    "file = []\n",
    "for contents in obj_list['Contents']:\n",
    "    file.append(contents['Key'])\n",
    "print(file)\n",
    "['acs2015_county_data.csv', 'counties/']\n",
    "file_data = file[0]\n",
    "\n"
   ]
  },
  {
   "cell_type": "code",
   "execution_count": 15,
   "id": "306d0182-ccc2-4052-b873-22b6ec922f62",
   "metadata": {},
   "outputs": [],
   "source": [
    "# 버킷의 CSV 파일에서 데이터를 가져옴\n",
    "\n",
    "response = s3_clinet.get_object(Bucket = data_bucket_name, Key = file_data)\n",
    "response_body = response[\"Body\"].read()\n",
    "counties = pd.read_csv(io.BytesIO(response_body), header=0, delimiter=\",\", low_memory=False) "
   ]
  },
  {
   "cell_type": "code",
   "execution_count": 16,
   "id": "d130a6f6-66af-4579-81b3-82c64b347f37",
   "metadata": {},
   "outputs": [
    {
     "data": {
      "text/html": [
       "<div>\n",
       "<style scoped>\n",
       "    .dataframe tbody tr th:only-of-type {\n",
       "        vertical-align: middle;\n",
       "    }\n",
       "\n",
       "    .dataframe tbody tr th {\n",
       "        vertical-align: top;\n",
       "    }\n",
       "\n",
       "    .dataframe thead th {\n",
       "        text-align: right;\n",
       "    }\n",
       "</style>\n",
       "<table border=\"1\" class=\"dataframe\">\n",
       "  <thead>\n",
       "    <tr style=\"text-align: right;\">\n",
       "      <th></th>\n",
       "      <th>CensusId</th>\n",
       "      <th>State</th>\n",
       "      <th>County</th>\n",
       "      <th>TotalPop</th>\n",
       "      <th>Men</th>\n",
       "      <th>Women</th>\n",
       "      <th>Hispanic</th>\n",
       "      <th>White</th>\n",
       "      <th>Black</th>\n",
       "      <th>Native</th>\n",
       "      <th>...</th>\n",
       "      <th>Walk</th>\n",
       "      <th>OtherTransp</th>\n",
       "      <th>WorkAtHome</th>\n",
       "      <th>MeanCommute</th>\n",
       "      <th>Employed</th>\n",
       "      <th>PrivateWork</th>\n",
       "      <th>PublicWork</th>\n",
       "      <th>SelfEmployed</th>\n",
       "      <th>FamilyWork</th>\n",
       "      <th>Unemployment</th>\n",
       "    </tr>\n",
       "  </thead>\n",
       "  <tbody>\n",
       "    <tr>\n",
       "      <th>0</th>\n",
       "      <td>1001</td>\n",
       "      <td>Alabama</td>\n",
       "      <td>Autauga</td>\n",
       "      <td>55221</td>\n",
       "      <td>26745</td>\n",
       "      <td>28476</td>\n",
       "      <td>2.6</td>\n",
       "      <td>75.8</td>\n",
       "      <td>18.5</td>\n",
       "      <td>0.4</td>\n",
       "      <td>...</td>\n",
       "      <td>0.5</td>\n",
       "      <td>1.3</td>\n",
       "      <td>1.8</td>\n",
       "      <td>26.5</td>\n",
       "      <td>23986</td>\n",
       "      <td>73.6</td>\n",
       "      <td>20.9</td>\n",
       "      <td>5.5</td>\n",
       "      <td>0.0</td>\n",
       "      <td>7.6</td>\n",
       "    </tr>\n",
       "    <tr>\n",
       "      <th>1</th>\n",
       "      <td>1003</td>\n",
       "      <td>Alabama</td>\n",
       "      <td>Baldwin</td>\n",
       "      <td>195121</td>\n",
       "      <td>95314</td>\n",
       "      <td>99807</td>\n",
       "      <td>4.5</td>\n",
       "      <td>83.1</td>\n",
       "      <td>9.5</td>\n",
       "      <td>0.6</td>\n",
       "      <td>...</td>\n",
       "      <td>1.0</td>\n",
       "      <td>1.4</td>\n",
       "      <td>3.9</td>\n",
       "      <td>26.4</td>\n",
       "      <td>85953</td>\n",
       "      <td>81.5</td>\n",
       "      <td>12.3</td>\n",
       "      <td>5.8</td>\n",
       "      <td>0.4</td>\n",
       "      <td>7.5</td>\n",
       "    </tr>\n",
       "    <tr>\n",
       "      <th>2</th>\n",
       "      <td>1005</td>\n",
       "      <td>Alabama</td>\n",
       "      <td>Barbour</td>\n",
       "      <td>26932</td>\n",
       "      <td>14497</td>\n",
       "      <td>12435</td>\n",
       "      <td>4.6</td>\n",
       "      <td>46.2</td>\n",
       "      <td>46.7</td>\n",
       "      <td>0.2</td>\n",
       "      <td>...</td>\n",
       "      <td>1.8</td>\n",
       "      <td>1.5</td>\n",
       "      <td>1.6</td>\n",
       "      <td>24.1</td>\n",
       "      <td>8597</td>\n",
       "      <td>71.8</td>\n",
       "      <td>20.8</td>\n",
       "      <td>7.3</td>\n",
       "      <td>0.1</td>\n",
       "      <td>17.6</td>\n",
       "    </tr>\n",
       "    <tr>\n",
       "      <th>3</th>\n",
       "      <td>1007</td>\n",
       "      <td>Alabama</td>\n",
       "      <td>Bibb</td>\n",
       "      <td>22604</td>\n",
       "      <td>12073</td>\n",
       "      <td>10531</td>\n",
       "      <td>2.2</td>\n",
       "      <td>74.5</td>\n",
       "      <td>21.4</td>\n",
       "      <td>0.4</td>\n",
       "      <td>...</td>\n",
       "      <td>0.6</td>\n",
       "      <td>1.5</td>\n",
       "      <td>0.7</td>\n",
       "      <td>28.8</td>\n",
       "      <td>8294</td>\n",
       "      <td>76.8</td>\n",
       "      <td>16.1</td>\n",
       "      <td>6.7</td>\n",
       "      <td>0.4</td>\n",
       "      <td>8.3</td>\n",
       "    </tr>\n",
       "    <tr>\n",
       "      <th>4</th>\n",
       "      <td>1009</td>\n",
       "      <td>Alabama</td>\n",
       "      <td>Blount</td>\n",
       "      <td>57710</td>\n",
       "      <td>28512</td>\n",
       "      <td>29198</td>\n",
       "      <td>8.6</td>\n",
       "      <td>87.9</td>\n",
       "      <td>1.5</td>\n",
       "      <td>0.3</td>\n",
       "      <td>...</td>\n",
       "      <td>0.9</td>\n",
       "      <td>0.4</td>\n",
       "      <td>2.3</td>\n",
       "      <td>34.9</td>\n",
       "      <td>22189</td>\n",
       "      <td>82.0</td>\n",
       "      <td>13.5</td>\n",
       "      <td>4.2</td>\n",
       "      <td>0.4</td>\n",
       "      <td>7.7</td>\n",
       "    </tr>\n",
       "  </tbody>\n",
       "</table>\n",
       "<p>5 rows × 37 columns</p>\n",
       "</div>"
      ],
      "text/plain": [
       "   CensusId    State   County  TotalPop    Men  Women  Hispanic  White  Black  \\\n",
       "0      1001  Alabama  Autauga     55221  26745  28476       2.6   75.8   18.5   \n",
       "1      1003  Alabama  Baldwin    195121  95314  99807       4.5   83.1    9.5   \n",
       "2      1005  Alabama  Barbour     26932  14497  12435       4.6   46.2   46.7   \n",
       "3      1007  Alabama     Bibb     22604  12073  10531       2.2   74.5   21.4   \n",
       "4      1009  Alabama   Blount     57710  28512  29198       8.6   87.9    1.5   \n",
       "\n",
       "   Native  ...  Walk  OtherTransp  WorkAtHome  MeanCommute  Employed  \\\n",
       "0     0.4  ...   0.5          1.3         1.8         26.5     23986   \n",
       "1     0.6  ...   1.0          1.4         3.9         26.4     85953   \n",
       "2     0.2  ...   1.8          1.5         1.6         24.1      8597   \n",
       "3     0.4  ...   0.6          1.5         0.7         28.8      8294   \n",
       "4     0.3  ...   0.9          0.4         2.3         34.9     22189   \n",
       "\n",
       "   PrivateWork  PublicWork  SelfEmployed  FamilyWork  Unemployment  \n",
       "0         73.6        20.9           5.5         0.0           7.6  \n",
       "1         81.5        12.3           5.8         0.4           7.5  \n",
       "2         71.8        20.8           7.3         0.1          17.6  \n",
       "3         76.8        16.1           6.7         0.4           8.3  \n",
       "4         82.0        13.5           4.2         0.4           7.7  \n",
       "\n",
       "[5 rows x 37 columns]"
      ]
     },
     "execution_count": 16,
     "metadata": {},
     "output_type": "execute_result"
    }
   ],
   "source": [
    "# 데이터의 첫 5행 확인\n",
    "\n",
    "counties.head()"
   ]
  },
  {
   "cell_type": "markdown",
   "id": "961ec61f-262e-445d-96c5-d1f60cf44ad3",
   "metadata": {},
   "source": [
    "## 2단계 : 탐색적 데이터 분석 EDA - 데이터 정리 및 탐색"
   ]
  },
  {
   "cell_type": "markdown",
   "id": "1837eccf-903f-464f-a727-c3102d65b493",
   "metadata": {},
   "source": [
    "### a. 데이터 정리"
   ]
  },
  {
   "cell_type": "code",
   "execution_count": 17,
   "id": "6f0cc3e5-2708-4cb4-94c6-6fdedf6ca50d",
   "metadata": {},
   "outputs": [
    {
     "data": {
      "text/plain": [
       "(3220, 37)"
      ]
     },
     "execution_count": 17,
     "metadata": {},
     "output_type": "execute_result"
    }
   ],
   "source": [
    "# 데이터 크기 확인 --> 37개 컬럼에 3220 행\n",
    "\n",
    "counties.shape"
   ]
  },
  {
   "cell_type": "markdown",
   "id": "051a65b9-c0af-4d5d-8019-a556ebde40db",
   "metadata": {},
   "source": [
    "분석을 쉽게 하기 위해서 <b>불완전한 데이터를 삭제</b> 합니다.\n"
   ]
  },
  {
   "cell_type": "code",
   "execution_count": 18,
   "id": "4c1ef801-cd0e-4415-b100-1002834694eb",
   "metadata": {},
   "outputs": [
    {
     "data": {
      "text/plain": [
       "(3218, 37)"
      ]
     },
     "execution_count": 18,
     "metadata": {},
     "output_type": "execute_result"
    }
   ],
   "source": [
    "counties.dropna(inplace=True)\n",
    "\n",
    "# 데이터 크기 재확인 --> 37개 컬럼에 3218 행\n",
    "counties.shape"
   ]
  },
  {
   "cell_type": "markdown",
   "id": "fc39eb4c-9cd3-4295-b42b-70eba00bc1fd",
   "metadata": {},
   "source": [
    "State와 County 컬럼 같이 설명 참조 열 중 일부를 결합하고 숫자 피쳐 컬럼을 남겨두겠습니다.\n",
    "\n",
    "이제 'state-county'를 인덱스로 설정할 수 있으며, 나머지 숫자 기능은 각 고유 county 속성이 됩니다."
   ]
  },
  {
   "cell_type": "code",
   "execution_count": 19,
   "id": "d7c6395e-6d1a-4ec3-9fc3-897e102c6bca",
   "metadata": {},
   "outputs": [
    {
     "data": {
      "text/html": [
       "<div>\n",
       "<style scoped>\n",
       "    .dataframe tbody tr th:only-of-type {\n",
       "        vertical-align: middle;\n",
       "    }\n",
       "\n",
       "    .dataframe tbody tr th {\n",
       "        vertical-align: top;\n",
       "    }\n",
       "\n",
       "    .dataframe thead th {\n",
       "        text-align: right;\n",
       "    }\n",
       "</style>\n",
       "<table border=\"1\" class=\"dataframe\">\n",
       "  <thead>\n",
       "    <tr style=\"text-align: right;\">\n",
       "      <th></th>\n",
       "      <th>TotalPop</th>\n",
       "      <th>Men</th>\n",
       "      <th>Women</th>\n",
       "      <th>Hispanic</th>\n",
       "      <th>White</th>\n",
       "      <th>Black</th>\n",
       "      <th>Native</th>\n",
       "      <th>Asian</th>\n",
       "      <th>Pacific</th>\n",
       "      <th>Citizen</th>\n",
       "      <th>...</th>\n",
       "      <th>Walk</th>\n",
       "      <th>OtherTransp</th>\n",
       "      <th>WorkAtHome</th>\n",
       "      <th>MeanCommute</th>\n",
       "      <th>Employed</th>\n",
       "      <th>PrivateWork</th>\n",
       "      <th>PublicWork</th>\n",
       "      <th>SelfEmployed</th>\n",
       "      <th>FamilyWork</th>\n",
       "      <th>Unemployment</th>\n",
       "    </tr>\n",
       "  </thead>\n",
       "  <tbody>\n",
       "    <tr>\n",
       "      <th>Alabama-Autauga</th>\n",
       "      <td>55221</td>\n",
       "      <td>26745</td>\n",
       "      <td>28476</td>\n",
       "      <td>2.6</td>\n",
       "      <td>75.8</td>\n",
       "      <td>18.5</td>\n",
       "      <td>0.4</td>\n",
       "      <td>1.0</td>\n",
       "      <td>0.0</td>\n",
       "      <td>40725</td>\n",
       "      <td>...</td>\n",
       "      <td>0.5</td>\n",
       "      <td>1.3</td>\n",
       "      <td>1.8</td>\n",
       "      <td>26.5</td>\n",
       "      <td>23986</td>\n",
       "      <td>73.6</td>\n",
       "      <td>20.9</td>\n",
       "      <td>5.5</td>\n",
       "      <td>0.0</td>\n",
       "      <td>7.6</td>\n",
       "    </tr>\n",
       "    <tr>\n",
       "      <th>Alabama-Baldwin</th>\n",
       "      <td>195121</td>\n",
       "      <td>95314</td>\n",
       "      <td>99807</td>\n",
       "      <td>4.5</td>\n",
       "      <td>83.1</td>\n",
       "      <td>9.5</td>\n",
       "      <td>0.6</td>\n",
       "      <td>0.7</td>\n",
       "      <td>0.0</td>\n",
       "      <td>147695</td>\n",
       "      <td>...</td>\n",
       "      <td>1.0</td>\n",
       "      <td>1.4</td>\n",
       "      <td>3.9</td>\n",
       "      <td>26.4</td>\n",
       "      <td>85953</td>\n",
       "      <td>81.5</td>\n",
       "      <td>12.3</td>\n",
       "      <td>5.8</td>\n",
       "      <td>0.4</td>\n",
       "      <td>7.5</td>\n",
       "    </tr>\n",
       "    <tr>\n",
       "      <th>Alabama-Barbour</th>\n",
       "      <td>26932</td>\n",
       "      <td>14497</td>\n",
       "      <td>12435</td>\n",
       "      <td>4.6</td>\n",
       "      <td>46.2</td>\n",
       "      <td>46.7</td>\n",
       "      <td>0.2</td>\n",
       "      <td>0.4</td>\n",
       "      <td>0.0</td>\n",
       "      <td>20714</td>\n",
       "      <td>...</td>\n",
       "      <td>1.8</td>\n",
       "      <td>1.5</td>\n",
       "      <td>1.6</td>\n",
       "      <td>24.1</td>\n",
       "      <td>8597</td>\n",
       "      <td>71.8</td>\n",
       "      <td>20.8</td>\n",
       "      <td>7.3</td>\n",
       "      <td>0.1</td>\n",
       "      <td>17.6</td>\n",
       "    </tr>\n",
       "    <tr>\n",
       "      <th>Alabama-Bibb</th>\n",
       "      <td>22604</td>\n",
       "      <td>12073</td>\n",
       "      <td>10531</td>\n",
       "      <td>2.2</td>\n",
       "      <td>74.5</td>\n",
       "      <td>21.4</td>\n",
       "      <td>0.4</td>\n",
       "      <td>0.1</td>\n",
       "      <td>0.0</td>\n",
       "      <td>17495</td>\n",
       "      <td>...</td>\n",
       "      <td>0.6</td>\n",
       "      <td>1.5</td>\n",
       "      <td>0.7</td>\n",
       "      <td>28.8</td>\n",
       "      <td>8294</td>\n",
       "      <td>76.8</td>\n",
       "      <td>16.1</td>\n",
       "      <td>6.7</td>\n",
       "      <td>0.4</td>\n",
       "      <td>8.3</td>\n",
       "    </tr>\n",
       "    <tr>\n",
       "      <th>Alabama-Blount</th>\n",
       "      <td>57710</td>\n",
       "      <td>28512</td>\n",
       "      <td>29198</td>\n",
       "      <td>8.6</td>\n",
       "      <td>87.9</td>\n",
       "      <td>1.5</td>\n",
       "      <td>0.3</td>\n",
       "      <td>0.1</td>\n",
       "      <td>0.0</td>\n",
       "      <td>42345</td>\n",
       "      <td>...</td>\n",
       "      <td>0.9</td>\n",
       "      <td>0.4</td>\n",
       "      <td>2.3</td>\n",
       "      <td>34.9</td>\n",
       "      <td>22189</td>\n",
       "      <td>82.0</td>\n",
       "      <td>13.5</td>\n",
       "      <td>4.2</td>\n",
       "      <td>0.4</td>\n",
       "      <td>7.7</td>\n",
       "    </tr>\n",
       "  </tbody>\n",
       "</table>\n",
       "<p>5 rows × 34 columns</p>\n",
       "</div>"
      ],
      "text/plain": [
       "                 TotalPop    Men  Women  Hispanic  White  Black  Native  \\\n",
       "Alabama-Autauga     55221  26745  28476       2.6   75.8   18.5     0.4   \n",
       "Alabama-Baldwin    195121  95314  99807       4.5   83.1    9.5     0.6   \n",
       "Alabama-Barbour     26932  14497  12435       4.6   46.2   46.7     0.2   \n",
       "Alabama-Bibb        22604  12073  10531       2.2   74.5   21.4     0.4   \n",
       "Alabama-Blount      57710  28512  29198       8.6   87.9    1.5     0.3   \n",
       "\n",
       "                 Asian  Pacific  Citizen  ...  Walk  OtherTransp  WorkAtHome  \\\n",
       "Alabama-Autauga    1.0      0.0    40725  ...   0.5          1.3         1.8   \n",
       "Alabama-Baldwin    0.7      0.0   147695  ...   1.0          1.4         3.9   \n",
       "Alabama-Barbour    0.4      0.0    20714  ...   1.8          1.5         1.6   \n",
       "Alabama-Bibb       0.1      0.0    17495  ...   0.6          1.5         0.7   \n",
       "Alabama-Blount     0.1      0.0    42345  ...   0.9          0.4         2.3   \n",
       "\n",
       "                 MeanCommute  Employed  PrivateWork  PublicWork  SelfEmployed  \\\n",
       "Alabama-Autauga         26.5     23986         73.6        20.9           5.5   \n",
       "Alabama-Baldwin         26.4     85953         81.5        12.3           5.8   \n",
       "Alabama-Barbour         24.1      8597         71.8        20.8           7.3   \n",
       "Alabama-Bibb            28.8      8294         76.8        16.1           6.7   \n",
       "Alabama-Blount          34.9     22189         82.0        13.5           4.2   \n",
       "\n",
       "                 FamilyWork  Unemployment  \n",
       "Alabama-Autauga         0.0           7.6  \n",
       "Alabama-Baldwin         0.4           7.5  \n",
       "Alabama-Barbour         0.1          17.6  \n",
       "Alabama-Bibb            0.4           8.3  \n",
       "Alabama-Blount          0.4           7.7  \n",
       "\n",
       "[5 rows x 34 columns]"
      ]
     },
     "execution_count": 19,
     "metadata": {},
     "output_type": "execute_result"
    }
   ],
   "source": [
    "counties.index=counties['State'] + \"-\" + counties['County']\n",
    "counties.head()\n",
    "drop=[\"CensusId\" , \"State\" , \"County\"]\n",
    "counties.drop(drop, axis=1, inplace=True)\n",
    "counties.head()"
   ]
  },
  {
   "cell_type": "markdown",
   "id": "c7ef7c69-0d4b-42e4-9652-a92080082434",
   "metadata": {},
   "source": [
    "### b. 데이터 시각화"
   ]
  },
  {
   "cell_type": "markdown",
   "id": "1fbd97de-5d27-43a8-bec9-7561746ea05c",
   "metadata": {},
   "source": [
    "숫자 컬럼과 범주형 컬럼이 혼합된 데이터 세트가 만들어 졌습니다. \n",
    "\n",
    "일부 숫자 컬럼에 대한 데이터를 시각화하고 분포가 어떤게 보이는지 확인해 봅니다."
   ]
  },
  {
   "cell_type": "code",
   "execution_count": 20,
   "id": "9eba922d-8c98-4ddd-8d23-9b73406fe218",
   "metadata": {},
   "outputs": [
    {
     "name": "stderr",
     "output_type": "stream",
     "text": [
      "/home/ec2-user/anaconda3/envs/mxnet_p37/lib/python3.7/site-packages/seaborn/distributions.py:2557: FutureWarning: `distplot` is a deprecated function and will be removed in a future version. Please adapt your code to use either `displot` (a figure-level function with similar flexibility) or `histplot` (an axes-level function for histograms).\n",
      "  warnings.warn(msg, FutureWarning)\n"
     ]
    },
    {
     "data": {
      "image/png": "[encoded data removed]",
      "text/plain": [
       "<Figure size 600x300 with 1 Axes>"
      ]
     },
     "metadata": {},
     "output_type": "display_data"
    },
    {
     "name": "stderr",
     "output_type": "stream",
     "text": [
      "/home/ec2-user/anaconda3/envs/mxnet_p37/lib/python3.7/site-packages/seaborn/distributions.py:2557: FutureWarning: `distplot` is a deprecated function and will be removed in a future version. Please adapt your code to use either `displot` (a figure-level function with similar flexibility) or `histplot` (an axes-level function for histograms).\n",
      "  warnings.warn(msg, FutureWarning)\n"
     ]
    },
    {
     "data": {
      "image/png": "[encoded data removed]",
      "text/plain": [
       "<Figure size 600x300 with 1 Axes>"
      ]
     },
     "metadata": {},
     "output_type": "display_data"
    },
    {
     "name": "stderr",
     "output_type": "stream",
     "text": [
      "/home/ec2-user/anaconda3/envs/mxnet_p37/lib/python3.7/site-packages/seaborn/distributions.py:2557: FutureWarning: `distplot` is a deprecated function and will be removed in a future version. Please adapt your code to use either `displot` (a figure-level function with similar flexibility) or `histplot` (an axes-level function for histograms).\n",
      "  warnings.warn(msg, FutureWarning)\n"
     ]
    },
    {
     "data": {
      "image/png": "[encoded data removed]",
      "text/plain": [
       "<Figure size 600x300 with 1 Axes>"
      ]
     },
     "metadata": {},
     "output_type": "display_data"
    }
   ],
   "source": [
    "import seaborn as sns\n",
    "\n",
    "for a in ['Professional', 'Service', 'Office']:\n",
    "    ax=plt.subplots(figsize=(6,3))\n",
    "    ax=sns.distplot(counties[a])\n",
    "    title=\"Histogram of \" + a\n",
    "    ax.set_title(title, fontsize=12)\n",
    "    plt.show()"
   ]
  },
  {
   "cell_type": "markdown",
   "id": "bb150544-ff04-4f18-b2b3-fd61f0a819f5",
   "metadata": {},
   "source": [
    "예를 들어, 위의 그림에서 전문직, 서비스 또는 사무실 직종에 종사하는 근로자의 비율이있는 카운티의 분포를 관찰 할 수 있습니다. 히스토그램을 보는 것은 평균 또는 왜곡과 같은 이러한 특징의 특성을 시각적으로 나타낼 수 있습니다. 예를 들어 전문 노동자의 분포는 전형적인 카운티가 약 25-30 %의 전문 노동자를 보유하고 있으며, 오른쪽 스큐, 긴 꼬리 및 전문 노동자 %가 일부 카운티에서는 거의 80 %로 상향 조정되고 있음을 보여줍니다."
   ]
  },
  {
   "cell_type": "markdown",
   "id": "e8899281-2f30-4c11-a60e-f72d97836cd4",
   "metadata": {},
   "source": [
    "### c. Feature 엔지니어링"
   ]
  },
  {
   "cell_type": "markdown",
   "id": "d1b51171-7518-486d-8a57-23269e700c7c",
   "metadata": {},
   "source": [
    "데이터 스케일링 – 서로 다른 피쳐 컬럼 간의 상대적 거리를 비교할 수 있도록 거리 기반 분석 방법을 사용하기 위해 숫자 열의 스케일링을 표준화해야 합니다. \n",
    "\n",
    "minmaxscaler를 사용하여 숫자 열을 변환하여 0과 1 사이에 놓이도록 할 수 있습니다."
   ]
  },
  {
   "cell_type": "code",
   "execution_count": 21,
   "id": "4671351c-7e80-4af3-a00f-99e8f9b67d07",
   "metadata": {},
   "outputs": [],
   "source": [
    "from sklearn.preprocessing import MinMaxScaler\n",
    "scaler=MinMaxScaler()\n",
    "counties_scaled=pd.DataFrame(scaler.fit_transform(counties))\n",
    "counties_scaled.columns=counties.columns\n",
    "counties_scaled.index=counties.index"
   ]
  },
  {
   "cell_type": "markdown",
   "id": "369cf51b-9520-40b4-91c4-7d4eb64ec57b",
   "metadata": {},
   "source": [
    "이제 모든 숫자 컬럼의 최소값이 0이고 최대 1임을 확인할 수 있습니다."
   ]
  },
  {
   "cell_type": "code",
   "execution_count": 22,
   "id": "ccde9423-e921-4a28-a5aa-283ef699ca23",
   "metadata": {},
   "outputs": [
    {
     "data": {
      "text/html": [
       "<div>\n",
       "<style scoped>\n",
       "    .dataframe tbody tr th:only-of-type {\n",
       "        vertical-align: middle;\n",
       "    }\n",
       "\n",
       "    .dataframe tbody tr th {\n",
       "        vertical-align: top;\n",
       "    }\n",
       "\n",
       "    .dataframe thead th {\n",
       "        text-align: right;\n",
       "    }\n",
       "</style>\n",
       "<table border=\"1\" class=\"dataframe\">\n",
       "  <thead>\n",
       "    <tr style=\"text-align: right;\">\n",
       "      <th></th>\n",
       "      <th>TotalPop</th>\n",
       "      <th>Men</th>\n",
       "      <th>Women</th>\n",
       "      <th>Hispanic</th>\n",
       "      <th>White</th>\n",
       "      <th>Black</th>\n",
       "      <th>Native</th>\n",
       "      <th>Asian</th>\n",
       "      <th>Pacific</th>\n",
       "      <th>Citizen</th>\n",
       "      <th>...</th>\n",
       "      <th>Walk</th>\n",
       "      <th>OtherTransp</th>\n",
       "      <th>WorkAtHome</th>\n",
       "      <th>MeanCommute</th>\n",
       "      <th>Employed</th>\n",
       "      <th>PrivateWork</th>\n",
       "      <th>PublicWork</th>\n",
       "      <th>SelfEmployed</th>\n",
       "      <th>FamilyWork</th>\n",
       "      <th>Unemployment</th>\n",
       "    </tr>\n",
       "  </thead>\n",
       "  <tbody>\n",
       "    <tr>\n",
       "      <th>count</th>\n",
       "      <td>3218.000000</td>\n",
       "      <td>3218.000000</td>\n",
       "      <td>3218.000000</td>\n",
       "      <td>3218.000000</td>\n",
       "      <td>3218.000000</td>\n",
       "      <td>3218.000000</td>\n",
       "      <td>3218.000000</td>\n",
       "      <td>3218.000000</td>\n",
       "      <td>3218.000000</td>\n",
       "      <td>3218.000000</td>\n",
       "      <td>...</td>\n",
       "      <td>3218.000000</td>\n",
       "      <td>3218.000000</td>\n",
       "      <td>3218.000000</td>\n",
       "      <td>3218.000000</td>\n",
       "      <td>3218.000000</td>\n",
       "      <td>3218.000000</td>\n",
       "      <td>3218.000000</td>\n",
       "      <td>3218.000000</td>\n",
       "      <td>3218.000000</td>\n",
       "      <td>3218.000000</td>\n",
       "    </tr>\n",
       "    <tr>\n",
       "      <th>mean</th>\n",
       "      <td>0.009883</td>\n",
       "      <td>0.009866</td>\n",
       "      <td>0.009899</td>\n",
       "      <td>0.110170</td>\n",
       "      <td>0.756024</td>\n",
       "      <td>0.100942</td>\n",
       "      <td>0.018682</td>\n",
       "      <td>0.029405</td>\n",
       "      <td>0.006470</td>\n",
       "      <td>0.011540</td>\n",
       "      <td>...</td>\n",
       "      <td>0.046496</td>\n",
       "      <td>0.041154</td>\n",
       "      <td>0.124428</td>\n",
       "      <td>0.470140</td>\n",
       "      <td>0.009806</td>\n",
       "      <td>0.760810</td>\n",
       "      <td>0.194426</td>\n",
       "      <td>0.216744</td>\n",
       "      <td>0.029417</td>\n",
       "      <td>0.221775</td>\n",
       "    </tr>\n",
       "    <tr>\n",
       "      <th>std</th>\n",
       "      <td>0.031818</td>\n",
       "      <td>0.031692</td>\n",
       "      <td>0.031948</td>\n",
       "      <td>0.192617</td>\n",
       "      <td>0.229682</td>\n",
       "      <td>0.166262</td>\n",
       "      <td>0.078748</td>\n",
       "      <td>0.062744</td>\n",
       "      <td>0.035446</td>\n",
       "      <td>0.033933</td>\n",
       "      <td>...</td>\n",
       "      <td>0.051956</td>\n",
       "      <td>0.042321</td>\n",
       "      <td>0.085301</td>\n",
       "      <td>0.143135</td>\n",
       "      <td>0.032305</td>\n",
       "      <td>0.132949</td>\n",
       "      <td>0.106923</td>\n",
       "      <td>0.106947</td>\n",
       "      <td>0.046451</td>\n",
       "      <td>0.112138</td>\n",
       "    </tr>\n",
       "    <tr>\n",
       "      <th>min</th>\n",
       "      <td>0.000000</td>\n",
       "      <td>0.000000</td>\n",
       "      <td>0.000000</td>\n",
       "      <td>0.000000</td>\n",
       "      <td>0.000000</td>\n",
       "      <td>0.000000</td>\n",
       "      <td>0.000000</td>\n",
       "      <td>0.000000</td>\n",
       "      <td>0.000000</td>\n",
       "      <td>0.000000</td>\n",
       "      <td>...</td>\n",
       "      <td>0.000000</td>\n",
       "      <td>0.000000</td>\n",
       "      <td>0.000000</td>\n",
       "      <td>0.000000</td>\n",
       "      <td>0.000000</td>\n",
       "      <td>0.000000</td>\n",
       "      <td>0.000000</td>\n",
       "      <td>0.000000</td>\n",
       "      <td>0.000000</td>\n",
       "      <td>0.000000</td>\n",
       "    </tr>\n",
       "    <tr>\n",
       "      <th>25%</th>\n",
       "      <td>0.001092</td>\n",
       "      <td>0.001117</td>\n",
       "      <td>0.001069</td>\n",
       "      <td>0.019019</td>\n",
       "      <td>0.642285</td>\n",
       "      <td>0.005821</td>\n",
       "      <td>0.001086</td>\n",
       "      <td>0.004808</td>\n",
       "      <td>0.000000</td>\n",
       "      <td>0.001371</td>\n",
       "      <td>...</td>\n",
       "      <td>0.019663</td>\n",
       "      <td>0.023018</td>\n",
       "      <td>0.072581</td>\n",
       "      <td>0.373402</td>\n",
       "      <td>0.000948</td>\n",
       "      <td>0.697279</td>\n",
       "      <td>0.120861</td>\n",
       "      <td>0.147541</td>\n",
       "      <td>0.010204</td>\n",
       "      <td>0.150685</td>\n",
       "    </tr>\n",
       "    <tr>\n",
       "      <th>50%</th>\n",
       "      <td>0.002571</td>\n",
       "      <td>0.002591</td>\n",
       "      <td>0.002539</td>\n",
       "      <td>0.039039</td>\n",
       "      <td>0.842685</td>\n",
       "      <td>0.022119</td>\n",
       "      <td>0.003257</td>\n",
       "      <td>0.012019</td>\n",
       "      <td>0.000000</td>\n",
       "      <td>0.003219</td>\n",
       "      <td>...</td>\n",
       "      <td>0.033708</td>\n",
       "      <td>0.033248</td>\n",
       "      <td>0.104839</td>\n",
       "      <td>0.462916</td>\n",
       "      <td>0.002234</td>\n",
       "      <td>0.785714</td>\n",
       "      <td>0.172185</td>\n",
       "      <td>0.188525</td>\n",
       "      <td>0.020408</td>\n",
       "      <td>0.208219</td>\n",
       "    </tr>\n",
       "    <tr>\n",
       "      <th>75%</th>\n",
       "      <td>0.006594</td>\n",
       "      <td>0.006645</td>\n",
       "      <td>0.006556</td>\n",
       "      <td>0.098098</td>\n",
       "      <td>0.933868</td>\n",
       "      <td>0.111758</td>\n",
       "      <td>0.006515</td>\n",
       "      <td>0.028846</td>\n",
       "      <td>0.000000</td>\n",
       "      <td>0.008237</td>\n",
       "      <td>...</td>\n",
       "      <td>0.056180</td>\n",
       "      <td>0.048593</td>\n",
       "      <td>0.150538</td>\n",
       "      <td>0.560102</td>\n",
       "      <td>0.006144</td>\n",
       "      <td>0.853741</td>\n",
       "      <td>0.243377</td>\n",
       "      <td>0.256831</td>\n",
       "      <td>0.030612</td>\n",
       "      <td>0.271233</td>\n",
       "    </tr>\n",
       "    <tr>\n",
       "      <th>max</th>\n",
       "      <td>1.000000</td>\n",
       "      <td>1.000000</td>\n",
       "      <td>1.000000</td>\n",
       "      <td>1.000000</td>\n",
       "      <td>1.000000</td>\n",
       "      <td>1.000000</td>\n",
       "      <td>1.000000</td>\n",
       "      <td>1.000000</td>\n",
       "      <td>1.000000</td>\n",
       "      <td>1.000000</td>\n",
       "      <td>...</td>\n",
       "      <td>1.000000</td>\n",
       "      <td>1.000000</td>\n",
       "      <td>1.000000</td>\n",
       "      <td>1.000000</td>\n",
       "      <td>1.000000</td>\n",
       "      <td>1.000000</td>\n",
       "      <td>1.000000</td>\n",
       "      <td>1.000000</td>\n",
       "      <td>1.000000</td>\n",
       "      <td>1.000000</td>\n",
       "    </tr>\n",
       "  </tbody>\n",
       "</table>\n",
       "<p>8 rows × 34 columns</p>\n",
       "</div>"
      ],
      "text/plain": [
       "          TotalPop          Men        Women     Hispanic        White  \\\n",
       "count  3218.000000  3218.000000  3218.000000  3218.000000  3218.000000   \n",
       "mean      0.009883     0.009866     0.009899     0.110170     0.756024   \n",
       "std       0.031818     0.031692     0.031948     0.192617     0.229682   \n",
       "min       0.000000     0.000000     0.000000     0.000000     0.000000   \n",
       "25%       0.001092     0.001117     0.001069     0.019019     0.642285   \n",
       "50%       0.002571     0.002591     0.002539     0.039039     0.842685   \n",
       "75%       0.006594     0.006645     0.006556     0.098098     0.933868   \n",
       "max       1.000000     1.000000     1.000000     1.000000     1.000000   \n",
       "\n",
       "             Black       Native        Asian      Pacific      Citizen  ...  \\\n",
       "count  3218.000000  3218.000000  3218.000000  3218.000000  3218.000000  ...   \n",
       "mean      0.100942     0.018682     0.029405     0.006470     0.011540  ...   \n",
       "std       0.166262     0.078748     0.062744     0.035446     0.033933  ...   \n",
       "min       0.000000     0.000000     0.000000     0.000000     0.000000  ...   \n",
       "25%       0.005821     0.001086     0.004808     0.000000     0.001371  ...   \n",
       "50%       0.022119     0.003257     0.012019     0.000000     0.003219  ...   \n",
       "75%       0.111758     0.006515     0.028846     0.000000     0.008237  ...   \n",
       "max       1.000000     1.000000     1.000000     1.000000     1.000000  ...   \n",
       "\n",
       "              Walk  OtherTransp   WorkAtHome  MeanCommute     Employed  \\\n",
       "count  3218.000000  3218.000000  3218.000000  3218.000000  3218.000000   \n",
       "mean      0.046496     0.041154     0.124428     0.470140     0.009806   \n",
       "std       0.051956     0.042321     0.085301     0.143135     0.032305   \n",
       "min       0.000000     0.000000     0.000000     0.000000     0.000000   \n",
       "25%       0.019663     0.023018     0.072581     0.373402     0.000948   \n",
       "50%       0.033708     0.033248     0.104839     0.462916     0.002234   \n",
       "75%       0.056180     0.048593     0.150538     0.560102     0.006144   \n",
       "max       1.000000     1.000000     1.000000     1.000000     1.000000   \n",
       "\n",
       "       PrivateWork   PublicWork  SelfEmployed   FamilyWork  Unemployment  \n",
       "count  3218.000000  3218.000000   3218.000000  3218.000000   3218.000000  \n",
       "mean      0.760810     0.194426      0.216744     0.029417      0.221775  \n",
       "std       0.132949     0.106923      0.106947     0.046451      0.112138  \n",
       "min       0.000000     0.000000      0.000000     0.000000      0.000000  \n",
       "25%       0.697279     0.120861      0.147541     0.010204      0.150685  \n",
       "50%       0.785714     0.172185      0.188525     0.020408      0.208219  \n",
       "75%       0.853741     0.243377      0.256831     0.030612      0.271233  \n",
       "max       1.000000     1.000000      1.000000     1.000000      1.000000  \n",
       "\n",
       "[8 rows x 34 columns]"
      ]
     },
     "execution_count": 22,
     "metadata": {},
     "output_type": "execute_result"
    }
   ],
   "source": [
    "counties_scaled.describe()"
   ]
  },
  {
   "cell_type": "markdown",
   "id": "36bbca2c-582b-4488-beb3-1255caa8f09c",
   "metadata": {},
   "source": [
    "## 3단계 : 데이터 모델링"
   ]
  },
  {
   "cell_type": "markdown",
   "id": "1eeb6ed2-00a1-49b8-9a9e-48ada237ce1d",
   "metadata": {},
   "source": [
    "### a. 차원 감소 (Dimensionality reduction)"
   ]
  },
  {
   "cell_type": "markdown",
   "id": "ba771e83-6b88-45d1-98ed-29026da49149",
   "metadata": {},
   "source": [
    "데이터의 차원을 줄이기 위해 PCA(주성분 분석)을 사용할 것 입니다. 이 메서드는 데이터 행렬을 서로 직교하는 피쳐로 분해합니다. 그 결과 직교 피쳐는 원래 피쳐의 선형 조합입니다.\n",
    "\n",
    "Amazon SageMaker 용 PCA 알고리즘을 사용합니다.\n",
    "\n",
    "먼저 PCA SageMaker 모델의 인스턴스를 가져와 호출합니다. 그런 다음 모델의 다른 매개 변수를 지정합니다. 이러한 매개 변수는 학습 중에 사용할 인스턴스 수 또는 사용할 인스턴스 유형과 같은 리소스 구성 매개 변수일 수 있습니다. 또는 PCA를 수행할 때 사용할 구성 요소 수와 같은 computation hyperparameter 모델링할 수도 있습니다.\n",
    "\n",
    "PCA 모델에 대한 설명은 다음을 참조하세요 : http://sagemaker.readthedocs.io/en/latest/pca.html"
   ]
  },
  {
   "cell_type": "markdown",
   "id": "da761eeb-7444-4e22-8cb1-a361d32426b7",
   "metadata": {},
   "source": [
    "Amazon SageMaker Python SDK에서 제공하는 도구를 사용하여 데이터를 기본 버킷에 업로드 합니다."
   ]
  },
  {
   "cell_type": "code",
   "execution_count": 23,
   "id": "36cbe8a4-8181-4257-b7a3-0ce3733025b5",
   "metadata": {},
   "outputs": [],
   "source": [
    "sess = sagemaker.Session()\n",
    "bucket = sess.default_bucket()\n",
    "\n",
    "from sagemaker import PCA\n",
    "\n",
    "num_components = 33\n",
    "\n",
    "pca_SM = PCA(\n",
    "    role=role,\n",
    "    instance_count=1,\n",
    "    instance_type=\"ml.c4.xlarge\",\n",
    "    output_path=\"s3://\" + bucket + \"/counties/\",\n",
    "    num_components=num_components,\n",
    ")"
   ]
  },
  {
   "cell_type": "markdown",
   "id": "f6ef404f-0bfa-4df5-9287-f2f2f82f3149",
   "metadata": {},
   "source": [
    "다음으로, DataFrame에서 numpy 배열을 추출하고 float32로 명시적으로 캐스팅하여 Amazon SageMaker에 대한 데이터를 준비합니다."
   ]
  },
  {
   "cell_type": "code",
   "execution_count": 24,
   "id": "cf2fd0cc-9ca1-4556-8be9-e54c95ab2622",
   "metadata": {},
   "outputs": [],
   "source": [
    "train_data = counties_scaled.values.astype('float32')"
   ]
  },
  {
   "cell_type": "markdown",
   "id": "fdd2e99a-4aee-4779-8597-88f42a73d5c5",
   "metadata": {},
   "source": [
    "Amazon SageMaker PCA 모델의 record_set 함수는 numpy 배열을 입력 데이터를 학습하는 데 필요한 형식인 레코드 집합 형식으로 변환합니다. 이는 모든 Amazon SageMaker 내장 모델에 대한 요구 사항입니다. 이 데이터 유형을 사용하면 sklearn 구현과 같은 동일한 모델의 다른 구현과 비교하여 더 큰 데이터 세트에 대해 Amazon SageMaker 내에서 모델 학습을 더 빠르게 수행할 수 있는 이유 중 하나입니다.\n",
    "\n",
    "PCA 모델에서 fit 함수를 호출하여 학습 데이터를 전달하면 교육 인스턴스 또는 클러스터가 훈련 작업을 수행합니다."
   ]
  },
  {
   "cell_type": "code",
   "execution_count": 25,
   "id": "bf05f33d-bba2-4039-b294-ece1e846551a",
   "metadata": {},
   "outputs": [
    {
     "name": "stderr",
     "output_type": "stream",
     "text": [
      "Defaulting to the only supported framework/algorithm version: 1. Ignoring framework/algorithm version: 1.\n",
      "Defaulting to the only supported framework/algorithm version: 1. Ignoring framework/algorithm version: 1.\n"
     ]
    },
    {
     "name": "stdout",
     "output_type": "stream",
     "text": [
      "2022-08-10 03:03:50 Starting - Starting the training job...\n",
      "2022-08-10 03:04:14 Starting - Preparing the instances for trainingProfilerReport-1660100630: InProgress\n",
      ".........\n",
      "2022-08-10 03:05:41 Downloading - Downloading input data...\n",
      "2022-08-10 03:06:14 Training - Downloading the training image.....\u001b[34mDocker entrypoint called with argument(s): train\u001b[0m\n",
      "\u001b[34mRunning default environment configuration script\u001b[0m\n",
      "\u001b[34m[08/10/2022 03:06:58 INFO 140115020646208] Reading default configuration from /opt/amazon/lib/python3.7/site-packages/algorithm/resources/default-conf.json: {'algorithm_mode': 'regular', 'subtract_mean': 'true', 'extra_components': '-1', 'force_dense': 'true', 'epochs': 1, '_log_level': 'info', '_kvstore': 'dist_sync', '_num_kv_servers': 'auto', '_num_gpus': 'auto'}\u001b[0m\n",
      "\u001b[34m[08/10/2022 03:06:58 INFO 140115020646208] Merging with provided configuration from /opt/ml/input/config/hyperparameters.json: {'feature_dim': '34', 'mini_batch_size': '500', 'num_components': '33'}\u001b[0m\n",
      "\u001b[34m[08/10/2022 03:06:58 INFO 140115020646208] Final configuration: {'algorithm_mode': 'regular', 'subtract_mean': 'true', 'extra_components': '-1', 'force_dense': 'true', 'epochs': 1, '_log_level': 'info', '_kvstore': 'dist_sync', '_num_kv_servers': 'auto', '_num_gpus': 'auto', 'feature_dim': '34', 'mini_batch_size': '500', 'num_components': '33'}\u001b[0m\n",
      "\u001b[34m[08/10/2022 03:06:58 WARNING 140115020646208] Loggers have already been setup.\u001b[0m\n",
      "\u001b[34m[08/10/2022 03:06:58 INFO 140115020646208] Launching parameter server for role scheduler\u001b[0m\n",
      "\u001b[34m[08/10/2022 03:06:58 INFO 140115020646208] {'ENVROOT': '/opt/amazon', 'PROTOCOL_BUFFERS_PYTHON_IMPLEMENTATION': 'cpp', 'HOSTNAME': 'ip-10-0-224-176.ec2.internal', 'TRAINING_JOB_NAME': 'pca-2022-08-10-03-03-50-527', 'NVIDIA_REQUIRE_CUDA': 'cuda>=9.0', 'TRAINING_JOB_ARN': 'arn:aws:sagemaker:us-east-1:376278017302:training-job/pca-2022-08-10-03-03-50-527', 'AWS_CONTAINER_CREDENTIALS_RELATIVE_URI': '/v2/credentials/proxy-8beee6a7211477edf1f1c7bc4a11643e24ef215b3612b400b1a3d08a83034780-customer', 'CANONICAL_ENVROOT': '/opt/amazon', 'PYTHONUNBUFFERED': 'TRUE', 'NVIDIA_VISIBLE_DEVICES': 'all', 'LD_LIBRARY_PATH': '/opt/amazon/lib/python3.7/site-packages/cv2/../../../../lib:/usr/local/nvidia/lib64:/opt/amazon/lib', 'NVIDIA_DRIVER_CAPABILITIES': 'compute,utility', 'PATH': '/opt/amazon/bin:/usr/local/nvidia/bin:/usr/local/sbin:/usr/local/bin:/usr/sbin:/usr/bin:/sbin:/bin', 'PWD': '/', 'LANG': 'en_US.utf8', 'AWS_REGION': 'us-east-1', 'HOME': '/root', 'SHLVL': '1', 'PROTOCOL_BUFFERS_PYTHON_IMPLEMENTATION_VERSION': '2', 'OMP_NUM_THREADS': '2', 'DMLC_INTERFACE': 'eth0', 'SAGEMAKER_HTTP_PORT': '8080', 'SAGEMAKER_DATA_PATH': '/opt/ml'}\u001b[0m\n",
      "\u001b[34m[08/10/2022 03:06:58 INFO 140115020646208] envs={'ENVROOT': '/opt/amazon', 'PROTOCOL_BUFFERS_PYTHON_IMPLEMENTATION': 'cpp', 'HOSTNAME': 'ip-10-0-224-176.ec2.internal', 'TRAINING_JOB_NAME': 'pca-2022-08-10-03-03-50-527', 'NVIDIA_REQUIRE_CUDA': 'cuda>=9.0', 'TRAINING_JOB_ARN': 'arn:aws:sagemaker:us-east-1:376278017302:training-job/pca-2022-08-10-03-03-50-527', 'AWS_CONTAINER_CREDENTIALS_RELATIVE_URI': '/v2/credentials/proxy-8beee6a7211477edf1f1c7bc4a11643e24ef215b3612b400b1a3d08a83034780-customer', 'CANONICAL_ENVROOT': '/opt/amazon', 'PYTHONUNBUFFERED': 'TRUE', 'NVIDIA_VISIBLE_DEVICES': 'all', 'LD_LIBRARY_PATH': '/opt/amazon/lib/python3.7/site-packages/cv2/../../../../lib:/usr/local/nvidia/lib64:/opt/amazon/lib', 'NVIDIA_DRIVER_CAPABILITIES': 'compute,utility', 'PATH': '/opt/amazon/bin:/usr/local/nvidia/bin:/usr/local/sbin:/usr/local/bin:/usr/sbin:/usr/bin:/sbin:/bin', 'PWD': '/', 'LANG': 'en_US.utf8', 'AWS_REGION': 'us-east-1', 'HOME': '/root', 'SHLVL': '1', 'PROTOCOL_BUFFERS_PYTHON_IMPLEMENTATION_VERSION': '2', 'OMP_NUM_THREADS': '2', 'DMLC_INTERFACE': 'eth0', 'SAGEMAKER_HTTP_PORT': '8080', 'SAGEMAKER_DATA_PATH': '/opt/ml', 'DMLC_ROLE': 'scheduler', 'DMLC_PS_ROOT_URI': '10.0.224.176', 'DMLC_PS_ROOT_PORT': '9000', 'DMLC_NUM_SERVER': '1', 'DMLC_NUM_WORKER': '1'}\u001b[0m\n",
      "\u001b[34m[08/10/2022 03:06:58 INFO 140115020646208] Launching parameter server for role server\u001b[0m\n",
      "\u001b[34m[08/10/2022 03:06:58 INFO 140115020646208] {'ENVROOT': '/opt/amazon', 'PROTOCOL_BUFFERS_PYTHON_IMPLEMENTATION': 'cpp', 'HOSTNAME': 'ip-10-0-224-176.ec2.internal', 'TRAINING_JOB_NAME': 'pca-2022-08-10-03-03-50-527', 'NVIDIA_REQUIRE_CUDA': 'cuda>=9.0', 'TRAINING_JOB_ARN': 'arn:aws:sagemaker:us-east-1:376278017302:training-job/pca-2022-08-10-03-03-50-527', 'AWS_CONTAINER_CREDENTIALS_RELATIVE_URI': '/v2/credentials/proxy-8beee6a7211477edf1f1c7bc4a11643e24ef215b3612b400b1a3d08a83034780-customer', 'CANONICAL_ENVROOT': '/opt/amazon', 'PYTHONUNBUFFERED': 'TRUE', 'NVIDIA_VISIBLE_DEVICES': 'all', 'LD_LIBRARY_PATH': '/opt/amazon/lib/python3.7/site-packages/cv2/../../../../lib:/usr/local/nvidia/lib64:/opt/amazon/lib', 'NVIDIA_DRIVER_CAPABILITIES': 'compute,utility', 'PATH': '/opt/amazon/bin:/usr/local/nvidia/bin:/usr/local/sbin:/usr/local/bin:/usr/sbin:/usr/bin:/sbin:/bin', 'PWD': '/', 'LANG': 'en_US.utf8', 'AWS_REGION': 'us-east-1', 'HOME': '/root', 'SHLVL': '1', 'PROTOCOL_BUFFERS_PYTHON_IMPLEMENTATION_VERSION': '2', 'OMP_NUM_THREADS': '2', 'DMLC_INTERFACE': 'eth0', 'SAGEMAKER_HTTP_PORT': '8080', 'SAGEMAKER_DATA_PATH': '/opt/ml'}\u001b[0m\n",
      "\u001b[34m[08/10/2022 03:06:58 INFO 140115020646208] envs={'ENVROOT': '/opt/amazon', 'PROTOCOL_BUFFERS_PYTHON_IMPLEMENTATION': 'cpp', 'HOSTNAME': 'ip-10-0-224-176.ec2.internal', 'TRAINING_JOB_NAME': 'pca-2022-08-10-03-03-50-527', 'NVIDIA_REQUIRE_CUDA': 'cuda>=9.0', 'TRAINING_JOB_ARN': 'arn:aws:sagemaker:us-east-1:376278017302:training-job/pca-2022-08-10-03-03-50-527', 'AWS_CONTAINER_CREDENTIALS_RELATIVE_URI': '/v2/credentials/proxy-8beee6a7211477edf1f1c7bc4a11643e24ef215b3612b400b1a3d08a83034780-customer', 'CANONICAL_ENVROOT': '/opt/amazon', 'PYTHONUNBUFFERED': 'TRUE', 'NVIDIA_VISIBLE_DEVICES': 'all', 'LD_LIBRARY_PATH': '/opt/amazon/lib/python3.7/site-packages/cv2/../../../../lib:/usr/local/nvidia/lib64:/opt/amazon/lib', 'NVIDIA_DRIVER_CAPABILITIES': 'compute,utility', 'PATH': '/opt/amazon/bin:/usr/local/nvidia/bin:/usr/local/sbin:/usr/local/bin:/usr/sbin:/usr/bin:/sbin:/bin', 'PWD': '/', 'LANG': 'en_US.utf8', 'AWS_REGION': 'us-east-1', 'HOME': '/root', 'SHLVL': '1', 'PROTOCOL_BUFFERS_PYTHON_IMPLEMENTATION_VERSION': '2', 'OMP_NUM_THREADS': '2', 'DMLC_INTERFACE': 'eth0', 'SAGEMAKER_HTTP_PORT': '8080', 'SAGEMAKER_DATA_PATH': '/opt/ml', 'DMLC_ROLE': 'server', 'DMLC_PS_ROOT_URI': '10.0.224.176', 'DMLC_PS_ROOT_PORT': '9000', 'DMLC_NUM_SERVER': '1', 'DMLC_NUM_WORKER': '1'}\u001b[0m\n",
      "\u001b[34m[08/10/2022 03:06:58 INFO 140115020646208] Environment: {'ENVROOT': '/opt/amazon', 'PROTOCOL_BUFFERS_PYTHON_IMPLEMENTATION': 'cpp', 'HOSTNAME': 'ip-10-0-224-176.ec2.internal', 'TRAINING_JOB_NAME': 'pca-2022-08-10-03-03-50-527', 'NVIDIA_REQUIRE_CUDA': 'cuda>=9.0', 'TRAINING_JOB_ARN': 'arn:aws:sagemaker:us-east-1:376278017302:training-job/pca-2022-08-10-03-03-50-527', 'AWS_CONTAINER_CREDENTIALS_RELATIVE_URI': '/v2/credentials/proxy-8beee6a7211477edf1f1c7bc4a11643e24ef215b3612b400b1a3d08a83034780-customer', 'CANONICAL_ENVROOT': '/opt/amazon', 'PYTHONUNBUFFERED': 'TRUE', 'NVIDIA_VISIBLE_DEVICES': 'all', 'LD_LIBRARY_PATH': '/opt/amazon/lib/python3.7/site-packages/cv2/../../../../lib:/usr/local/nvidia/lib64:/opt/amazon/lib', 'NVIDIA_DRIVER_CAPABILITIES': 'compute,utility', 'PATH': '/opt/amazon/bin:/usr/local/nvidia/bin:/usr/local/sbin:/usr/local/bin:/usr/sbin:/usr/bin:/sbin:/bin', 'PWD': '/', 'LANG': 'en_US.utf8', 'AWS_REGION': 'us-east-1', 'HOME': '/root', 'SHLVL': '1', 'PROTOCOL_BUFFERS_PYTHON_IMPLEMENTATION_VERSION': '2', 'OMP_NUM_THREADS': '2', 'DMLC_INTERFACE': 'eth0', 'SAGEMAKER_HTTP_PORT': '8080', 'SAGEMAKER_DATA_PATH': '/opt/ml', 'DMLC_ROLE': 'worker', 'DMLC_PS_ROOT_URI': '10.0.224.176', 'DMLC_PS_ROOT_PORT': '9000', 'DMLC_NUM_SERVER': '1', 'DMLC_NUM_WORKER': '1'}\u001b[0m\n",
      "\u001b[34mProcess 34 is a shell:scheduler.\u001b[0m\n",
      "\u001b[34mProcess 46 is a shell:server.\u001b[0m\n",
      "\u001b[34mProcess 1 is a worker.\u001b[0m\n",
      "\u001b[34m[08/10/2022 03:06:58 INFO 140115020646208] Using default worker.\u001b[0m\n",
      "\u001b[34m[08/10/2022 03:06:58 INFO 140115020646208] Loaded iterator creator application/x-labeled-vector-protobuf for content type ('application/x-labeled-vector-protobuf', '1.0')\u001b[0m\n",
      "\u001b[34m[08/10/2022 03:06:58 INFO 140115020646208] Loaded iterator creator application/x-recordio-protobuf for content type ('application/x-recordio-protobuf', '1.0')\u001b[0m\n",
      "\u001b[34m[08/10/2022 03:06:58 INFO 140115020646208] Loaded iterator creator protobuf for content type ('protobuf', '1.0')\u001b[0m\n",
      "\u001b[34m[08/10/2022 03:06:58 INFO 140115020646208] Checkpoint loading and saving are disabled.\u001b[0m\n",
      "\u001b[34m[08/10/2022 03:06:59 INFO 140115020646208] Create Store: dist_sync\u001b[0m\n",
      "\u001b[34m[08/10/2022 03:07:00 INFO 140115020646208] nvidia-smi: took 0.030 seconds to run.\u001b[0m\n",
      "\u001b[34m[08/10/2022 03:07:00 INFO 140115020646208] nvidia-smi identified 0 GPUs.\u001b[0m\n",
      "\u001b[34m[08/10/2022 03:07:00 INFO 140115020646208] Number of GPUs being used: 0\u001b[0m\n",
      "\u001b[34m[08/10/2022 03:07:00 INFO 140115020646208] The default executor is <PCAExecutor on cpu(0)>.\u001b[0m\n",
      "\u001b[34m[08/10/2022 03:07:00 INFO 140115020646208] 34 feature(s) found in 'data'.\u001b[0m\n",
      "\u001b[34m[08/10/2022 03:07:00 INFO 140115020646208] <PCAExecutor on cpu(0)> is assigned to batch slice from 0 to 499.\u001b[0m\n",
      "\u001b[34m#metrics {\"StartTime\": 1660100818.9968998, \"EndTime\": 1660100820.0124156, \"Dimensions\": {\"Algorithm\": \"PCA\", \"Host\": \"algo-1\", \"Operation\": \"training\"}, \"Metrics\": {\"initialize.time\": {\"sum\": 1003.0577182769775, \"count\": 1, \"min\": 1003.0577182769775, \"max\": 1003.0577182769775}}}\u001b[0m\n",
      "\u001b[34m#metrics {\"StartTime\": 1660100820.0126312, \"EndTime\": 1660100820.0126858, \"Dimensions\": {\"Algorithm\": \"PCA\", \"Host\": \"algo-1\", \"Operation\": \"training\", \"Meta\": \"init_train_data_iter\"}, \"Metrics\": {\"Total Records Seen\": {\"sum\": 0.0, \"count\": 1, \"min\": 0, \"max\": 0}, \"Total Batches Seen\": {\"sum\": 0.0, \"count\": 1, \"min\": 0, \"max\": 0}, \"Max Records Seen Between Resets\": {\"sum\": 0.0, \"count\": 1, \"min\": 0, \"max\": 0}, \"Max Batches Seen Between Resets\": {\"sum\": 0.0, \"count\": 1, \"min\": 0, \"max\": 0}, \"Reset Count\": {\"sum\": 0.0, \"count\": 1, \"min\": 0, \"max\": 0}, \"Number of Records Since Last Reset\": {\"sum\": 0.0, \"count\": 1, \"min\": 0, \"max\": 0}, \"Number of Batches Since Last Reset\": {\"sum\": 0.0, \"count\": 1, \"min\": 0, \"max\": 0}}}\u001b[0m\n",
      "\u001b[34m[2022-08-10 03:07:00.013] [tensorio] [info] epoch_stats={\"data_pipeline\": \"/opt/ml/input/data/train\", \"epoch\": 0, \"duration\": 1015, \"num_examples\": 1, \"num_bytes\": 82000}\u001b[0m\n",
      "\u001b[34m[2022-08-10 03:07:00.072] [tensorio] [info] epoch_stats={\"data_pipeline\": \"/opt/ml/input/data/train\", \"epoch\": 1, \"duration\": 47, \"num_examples\": 7, \"num_bytes\": 527752}\u001b[0m\n",
      "\u001b[34m#metrics {\"StartTime\": 1660100820.0125606, \"EndTime\": 1660100820.0725768, \"Dimensions\": {\"Algorithm\": \"PCA\", \"Host\": \"algo-1\", \"Operation\": \"training\"}, \"Metrics\": {\"epochs\": {\"sum\": 1.0, \"count\": 1, \"min\": 1, \"max\": 1}, \"update.time\": {\"sum\": 59.40699577331543, \"count\": 1, \"min\": 59.40699577331543, \"max\": 59.40699577331543}}}\u001b[0m\n",
      "\u001b[34m[08/10/2022 03:07:00 INFO 140115020646208] #progress_metric: host=algo-1, completed 100.0 % of epochs\u001b[0m\n",
      "\u001b[34m#metrics {\"StartTime\": 1660100820.013122, \"EndTime\": 1660100820.0741985, \"Dimensions\": {\"Algorithm\": \"PCA\", \"Host\": \"algo-1\", \"Operation\": \"training\", \"epoch\": 0, \"Meta\": \"training_data_iter\"}, \"Metrics\": {\"Total Records Seen\": {\"sum\": 3218.0, \"count\": 1, \"min\": 3218, \"max\": 3218}, \"Total Batches Seen\": {\"sum\": 7.0, \"count\": 1, \"min\": 7, \"max\": 7}, \"Max Records Seen Between Resets\": {\"sum\": 3218.0, \"count\": 1, \"min\": 3218, \"max\": 3218}, \"Max Batches Seen Between Resets\": {\"sum\": 7.0, \"count\": 1, \"min\": 7, \"max\": 7}, \"Reset Count\": {\"sum\": 1.0, \"count\": 1, \"min\": 1, \"max\": 1}, \"Number of Records Since Last Reset\": {\"sum\": 3218.0, \"count\": 1, \"min\": 3218, \"max\": 3218}, \"Number of Batches Since Last Reset\": {\"sum\": 7.0, \"count\": 1, \"min\": 7, \"max\": 7}}}\u001b[0m\n",
      "\u001b[34m[08/10/2022 03:07:00 INFO 140115020646208] #throughput_metric: host=algo-1, train throughput=52540.4361816009 records/second\u001b[0m\n",
      "\u001b[34m#metrics {\"StartTime\": 1660100820.0734308, \"EndTime\": 1660100820.0994644, \"Dimensions\": {\"Algorithm\": \"PCA\", \"Host\": \"algo-1\", \"Operation\": \"training\"}, \"Metrics\": {\"finalize.time\": {\"sum\": 24.735689163208008, \"count\": 1, \"min\": 24.735689163208008, \"max\": 24.735689163208008}}}\u001b[0m\n",
      "\u001b[34m[08/10/2022 03:07:00 INFO 140115020646208] Test data is not provided.\u001b[0m\n",
      "\u001b[34m#metrics {\"StartTime\": 1660100820.0999334, \"EndTime\": 1660100820.108179, \"Dimensions\": {\"Algorithm\": \"PCA\", \"Host\": \"algo-1\", \"Operation\": \"training\"}, \"Metrics\": {\"setuptime\": {\"sum\": 34.58714485168457, \"count\": 1, \"min\": 34.58714485168457, \"max\": 34.58714485168457}, \"totaltime\": {\"sum\": 1292.9627895355225, \"count\": 1, \"min\": 1292.9627895355225, \"max\": 1292.9627895355225}}}\u001b[0m\n",
      "\n",
      "2022-08-10 03:07:18 Uploading - Uploading generated training model\n",
      "2022-08-10 03:07:18 Completed - Training job completed\n",
      "Training seconds: 97\n",
      "Billable seconds: 97\n",
      "CPU times: user 504 ms, sys: 32.5 ms, total: 536 ms\n",
      "Wall time: 3min 42s\n"
     ]
    }
   ],
   "source": [
    "%%time\n",
    "pca_SM.fit(pca_SM.record_set(train_data))"
   ]
  },
  {
   "cell_type": "markdown",
   "id": "cdbf534d-3860-439c-9503-4d85096703b3",
   "metadata": {},
   "source": [
    "### b. PCA 모델 attributes 액세스"
   ]
  },
  {
   "cell_type": "markdown",
   "id": "587cd07b-c9ad-4e33-b464-5fb40d678324",
   "metadata": {},
   "source": [
    "모델을 만든 후 기본 모델 매개 변수에 액세스할 수 있습니다.\n",
    "\n",
    "이제 훈련이 완료되었으므로 Amazon SageMaker 콘솔의 Training 하위 섹션에 있는 Training jobs에서 작업을 찾을 수 있습니다. 다음 코드에서 해당 작업 이름을 사용하여 검사할 모델을 지정 합니다.\n",
    "\n",
    "모델 아티팩트는 학숩된 후 Amazon S3에 저장됩니다. 이는 Amazon SageMaker를 사용하여 학습된 모델을 배초하는 데 사용되는 것과 동일한 모델 아티팩트 입니다.\n",
    "\n",
    "많은 Amazon SageMaker 알고리즘이 계산에 MXNet을 사용하기 때문에 모델 아티팩트는 ND 어레이로 저장 됩니다. 훈련 호출 중에 지정된 출력 경로의 경우, 모델은 GNU zip(gzip)으로 압축된 TAR 아카이브 파일인 “training job name”–> output–>model.tar.gz 입니다."
   ]
  },
  {
   "cell_type": "code",
   "execution_count": 26,
   "id": "46e081e1-ba4b-49a7-bbe8-70b2b8c367eb",
   "metadata": {},
   "outputs": [
    {
     "data": {
      "text/plain": [
       "0"
      ]
     },
     "execution_count": 26,
     "metadata": {},
     "output_type": "execute_result"
    }
   ],
   "source": [
    "job_name = pca_SM.latest_training_job.name\n",
    "model_key = \"counties/\" + job_name + \"/output/model.tar.gz\"\n",
    "\n",
    "boto3.resource(\"s3\").Bucket(bucket).download_file(model_key, \"model.tar.gz\")\n",
    "os.system(\"tar -zxvf model.tar.gz\")"
   ]
  },
  {
   "cell_type": "markdown",
   "id": "1012da0a-b286-47cf-93e1-2c36e660db36",
   "metadata": {},
   "source": [
    "모델의 압축을 풀고 나면 MXNet을 사용하여 ND 어레이를 로드할 수 있습니다."
   ]
  },
  {
   "cell_type": "code",
   "execution_count": 27,
   "id": "ce26bb81-bdfa-4f16-bf7e-a4bae5da4196",
   "metadata": {},
   "outputs": [],
   "source": [
    "import mxnet as mx\n",
    "pca_model_params = mx.ndarray.load('model_algo-1')"
   ]
  },
  {
   "cell_type": "markdown",
   "id": "93eb5856-456c-4d5b-9ec9-f48406b9ed3f",
   "metadata": {},
   "source": [
    "세 그룹의 모델 매개변수가 PCA 모델 내에 포함 됩니다.\n",
    "\n",
    "<b>mean</b> : 선택 사항이며, 원래 PCA SageMaker 함수에서 학습 단계를 호출할 때 \"subset_mean\" 하이퍼파라미터가 참인 경우에만 사용할 수 있습니다.\n",
    "\n",
    "<b>v</b> : 주성분을 포함합니다. (sklearn PCA 모델의 'components_'와 동일)\n",
    "\n",
    "<b>s</b> : PCA 변환에 대한 구성 요소의 단수 값 입니다. 이렇게 해도 원래 피쳐 공간의 % 분산이 정확히 제공되지는 않지만 투영된 피쳐 공간에서 % 분산을 제공할 수 있습니다.\n",
    "\n",
    "explained-variance-ratio ~= square(s) / sum(square(s))\n",
    "\n",
    "필요한 경우 정확한 분산 비율 벡터를 계산하려면 원래 데이터의 제곱합(N이라고 함)을 저장하고 분산 비율 = 제곱/N 을 계산하면 됩니다."
   ]
  },
  {
   "cell_type": "code",
   "execution_count": 28,
   "id": "7f73ae94-6f41-4004-ac3b-883dc0b974ee",
   "metadata": {},
   "outputs": [],
   "source": [
    "s=pd.DataFrame(pca_model_params['s'].asnumpy())\n",
    "v=pd.DataFrame(pca_model_params['v'].asnumpy())"
   ]
  },
  {
   "cell_type": "markdown",
   "id": "03672f57-f9c8-4621-b248-37413cda6bf5",
   "metadata": {},
   "source": [
    "이 예제에서는 상위 5개 구성 요소를 살펴 봅니다.\n",
    "\n",
    "가장 큰 5가지 구성 요소가 데이터 세트의 총 분산의 ~72%를 설명한다는 것을 알 수 있습니다."
   ]
  },
  {
   "cell_type": "code",
   "execution_count": 29,
   "id": "ebe170dd-d7e0-4e0b-83d1-9f0a503ecc47",
   "metadata": {},
   "outputs": [
    {
     "data": {
      "text/plain": [
       "0    0.717983\n",
       "dtype: float32"
      ]
     },
     "execution_count": 29,
     "metadata": {},
     "output_type": "execute_result"
    }
   ],
   "source": [
    "s.iloc[28:,:].apply(lambda x: x*x).sum()/s.apply(lambda x: x*x).sum()"
   ]
  },
  {
   "cell_type": "markdown",
   "id": "1494df6f-e549-4767-8d3a-e5f2bea90c88",
   "metadata": {},
   "source": [
    "상위 5개의 구성 요소를 유지하기로 결정한 후에는 원래 s 및 v 매트릭스에서 5개의 가장 큰 구성 요소만 사용할 수 있습니다."
   ]
  },
  {
   "cell_type": "code",
   "execution_count": 30,
   "id": "487323d2-f2ca-4c0d-bc84-59faa6466076",
   "metadata": {},
   "outputs": [],
   "source": [
    "s_5=s.iloc[28:,:]\n",
    "v_5=v.iloc[:,28:]\n",
    "v_5.columns=[0,1,2,3,4]"
   ]
  },
  {
   "cell_type": "markdown",
   "id": "bc4fa049-f663-4737-9ebf-1eec1db47c38",
   "metadata": {},
   "source": [
    "이제 구성 요소에 포함 된 원래 기능의 가중치를 기반으로 각 PCA 구성 요소의 구성을 검사 할 수 있습니다. 예를 들어 다음 코드에서는 첫 번째 구성 요소를 보여 줍니다. 이 구성 요소가 높은 빈곤과 실업, 일인당 소득과 소득이 낮고 히스패닉 / 흑인 인구가 많고 백인 인구가 적은 카운티의 특성을 묘사한다는 것을 알 수 있습니다.\n",
    "\n",
    "이것은 v_5[4] 또는 v_5의 구성 요소 목록의 마지막 구성 요소이지만 구성 요소가 가장 작은 구성 요소에서 가장 큰 구성 요소로 정렬되기 때문에 실제로 가장 큰 구성 요소입니다. 따라서 v_5[0] 은 가장 작은 구성 요소입니다. 마찬가지로, component_num의 값을 변경하여 각 구성 요소의 구성을 순환시킵니다."
   ]
  },
  {
   "cell_type": "code",
   "execution_count": 31,
   "id": "5d0306d5-3103-4d9c-9a24-fff80d202654",
   "metadata": {},
   "outputs": [
    {
     "data": {
      "image/png": "[encoded data removed]",
      "text/plain": [
       "<Figure size 640x480 with 1 Axes>"
      ]
     },
     "metadata": {},
     "output_type": "display_data"
    }
   ],
   "source": [
    "component_num=1\n",
    "\n",
    "first_comp = v_5[5-component_num]\n",
    "comps = pd.DataFrame(list(zip(first_comp, counties_scaled.columns)), columns=['weights', 'features'])\n",
    "comps['abs_weights']=comps['weights'].apply(lambda x: np.abs(x))\n",
    "ax=sns.barplot(data=comps.sort_values('abs_weights', ascending=False).head(10), x=\"weights\", y=\"features\", palette=\"Blues_d\")\n",
    "ax.set_title(\"PCA Component Makeup: #\" + str(component_num))\n",
    "plt.show()"
   ]
  },
  {
   "cell_type": "markdown",
   "id": "bfce1412-3fa5-4d21-9d3f-9dff4ad135cf",
   "metadata": {},
   "source": [
    "마찬가지로 각 PCA 구성 요소의 구성을 살펴보고 각 구성 요소에 대한 주요 positive 및 negative 특성이 무엇인지 이해할 수 있습니다.\n",
    "\n",
    "다음 코드는 구성 요소의 이름을 지정합니다. 각 구성 요소의 고유한 구성에 대해 인사이트를 얻기 위해 자유롭게 변경할 수 있습니다."
   ]
  },
  {
   "cell_type": "code",
   "execution_count": 32,
   "id": "b3f5628c-b895-4179-8d2c-8fe71ba33519",
   "metadata": {},
   "outputs": [],
   "source": [
    "PCA_list=['comp_1', 'comp_2', 'comp_3', 'comp_4', 'comp_5']\n",
    "\n",
    "#PCA_list=[\"Poverty/Unemployment\", \"Self Employment/Public Workers\", \"High Income/Professional & Office Workers\", \\\n",
    "#         \"Black/Native Am Populations & Public/Professional Workers\", \"Construction & Commuters\"]"
   ]
  },
  {
   "cell_type": "markdown",
   "id": "6f29ca9e-50b8-4340-92f0-77c385037e0b",
   "metadata": {},
   "source": [
    "### c. PCA 모델 배포"
   ]
  },
  {
   "cell_type": "markdown",
   "id": "61649de6-0546-4521-801d-15779df5dc75",
   "metadata": {},
   "source": [
    "이 모델의 Endpoint를 배포하고 이를 사용하여 예측을 수행할 수 있습니다.\n",
    "\n",
    "이 모델은 이제 라이브로 제공되며 지정한 instance_type에서 호스팅 됩니다."
   ]
  },
  {
   "cell_type": "code",
   "execution_count": 33,
   "id": "f78ecf30-6d68-4d81-bfa7-5cc92897f0b6",
   "metadata": {},
   "outputs": [
    {
     "name": "stderr",
     "output_type": "stream",
     "text": [
      "Defaulting to the only supported framework/algorithm version: 1. Ignoring framework/algorithm version: 1.\n"
     ]
    },
    {
     "name": "stdout",
     "output_type": "stream",
     "text": [
      "--------------!CPU times: user 214 ms, sys: 24.3 ms, total: 239 ms\n",
      "Wall time: 7min 2s\n"
     ]
    }
   ],
   "source": [
    "%%time\n",
    "pca_predictor = pca_SM.deploy(initial_instance_count=1, \n",
    "                                 instance_type='ml.t2.medium')"
   ]
  },
  {
   "cell_type": "markdown",
   "id": "46c1fd08-062a-4fa5-a50b-32f76fa28c68",
   "metadata": {},
   "source": [
    "또한 원래 데이터 세트를 모델에 전달하여 만든 모델을 사용하여 데이터를 변환할 수 있습니다. 그런 다음 가장 큰 5 개의 구성 요소를 사용할 수 있으며 이로 인해 데이터의 차원이 34에서 5로 줄어 듭니다."
   ]
  },
  {
   "cell_type": "code",
   "execution_count": 34,
   "id": "ecaf634a-cbaf-4f5c-9b13-1fe3c94f51a5",
   "metadata": {},
   "outputs": [
    {
     "name": "stdout",
     "output_type": "stream",
     "text": [
      "CPU times: user 7.51 s, sys: 0 ns, total: 7.51 s\n",
      "Wall time: 7.84 s\n"
     ]
    }
   ],
   "source": [
    "%%time\n",
    "result = pca_predictor.predict(train_data)\n",
    "counties_transformed=pd.DataFrame()\n",
    "for a in result:\n",
    "    b=a.label['projection'].float32_tensor.values\n",
    "    counties_transformed=counties_transformed.append([list(b)])\n",
    "counties_transformed.index=counties_scaled.index\n",
    "counties_transformed=counties_transformed.iloc[:,28:]\n",
    "counties_transformed.columns=PCA_list"
   ]
  },
  {
   "cell_type": "markdown",
   "id": "579a90f0-5579-4527-8edb-235702059071",
   "metadata": {},
   "source": [
    "이제 각 카운티가 이전에 분석 한 5 가지 원칙 구성 요소로 설명되는 데이터 세트를 만들었습니다. \n",
    "\n",
    "이 5 가지 구성 요소 각각은 원래 피쳐 공간의 선형 조합입니다. \n",
    "\n",
    "이전에 표시된 구성 요소의 구성을 분석하여이 5 가지 구성 요소 각각을 해석 할 수 있습니다."
   ]
  },
  {
   "cell_type": "code",
   "execution_count": 35,
   "id": "13838efd-fa0b-45ed-ad95-e84a5a3b397a",
   "metadata": {},
   "outputs": [
    {
     "data": {
      "text/html": [
       "<div>\n",
       "<style scoped>\n",
       "    .dataframe tbody tr th:only-of-type {\n",
       "        vertical-align: middle;\n",
       "    }\n",
       "\n",
       "    .dataframe tbody tr th {\n",
       "        vertical-align: top;\n",
       "    }\n",
       "\n",
       "    .dataframe thead th {\n",
       "        text-align: right;\n",
       "    }\n",
       "</style>\n",
       "<table border=\"1\" class=\"dataframe\">\n",
       "  <thead>\n",
       "    <tr style=\"text-align: right;\">\n",
       "      <th></th>\n",
       "      <th>comp_1</th>\n",
       "      <th>comp_2</th>\n",
       "      <th>comp_3</th>\n",
       "      <th>comp_4</th>\n",
       "      <th>comp_5</th>\n",
       "    </tr>\n",
       "  </thead>\n",
       "  <tbody>\n",
       "    <tr>\n",
       "      <th>Alabama-Autauga</th>\n",
       "      <td>-0.010824</td>\n",
       "      <td>0.120480</td>\n",
       "      <td>-0.088356</td>\n",
       "      <td>0.160527</td>\n",
       "      <td>-0.060274</td>\n",
       "    </tr>\n",
       "    <tr>\n",
       "      <th>Alabama-Baldwin</th>\n",
       "      <td>-0.068677</td>\n",
       "      <td>-0.023092</td>\n",
       "      <td>-0.145743</td>\n",
       "      <td>0.185969</td>\n",
       "      <td>-0.149684</td>\n",
       "    </tr>\n",
       "    <tr>\n",
       "      <th>Alabama-Barbour</th>\n",
       "      <td>0.093111</td>\n",
       "      <td>0.297829</td>\n",
       "      <td>0.146258</td>\n",
       "      <td>0.296662</td>\n",
       "      <td>0.506202</td>\n",
       "    </tr>\n",
       "    <tr>\n",
       "      <th>Alabama-Bibb</th>\n",
       "      <td>0.283526</td>\n",
       "      <td>0.011757</td>\n",
       "      <td>0.224402</td>\n",
       "      <td>0.190861</td>\n",
       "      <td>0.069224</td>\n",
       "    </tr>\n",
       "    <tr>\n",
       "      <th>Alabama-Blount</th>\n",
       "      <td>0.100738</td>\n",
       "      <td>-0.193824</td>\n",
       "      <td>0.022714</td>\n",
       "      <td>0.254403</td>\n",
       "      <td>-0.091030</td>\n",
       "    </tr>\n",
       "  </tbody>\n",
       "</table>\n",
       "</div>"
      ],
      "text/plain": [
       "                   comp_1    comp_2    comp_3    comp_4    comp_5\n",
       "Alabama-Autauga -0.010824  0.120480 -0.088356  0.160527 -0.060274\n",
       "Alabama-Baldwin -0.068677 -0.023092 -0.145743  0.185969 -0.149684\n",
       "Alabama-Barbour  0.093111  0.297829  0.146258  0.296662  0.506202\n",
       "Alabama-Bibb     0.283526  0.011757  0.224402  0.190861  0.069224\n",
       "Alabama-Blount   0.100738 -0.193824  0.022714  0.254403 -0.091030"
      ]
     },
     "execution_count": 35,
     "metadata": {},
     "output_type": "execute_result"
    }
   ],
   "source": [
    "counties_transformed.head()"
   ]
  },
  {
   "cell_type": "markdown",
   "id": "c7f7a2cd-f111-48e0-8e0f-4192054ecf95",
   "metadata": {},
   "source": [
    "### d. Unsupervised 클러스터링을 통한 User Segmentation"
   ]
  },
  {
   "cell_type": "markdown",
   "id": "41800f55-5f68-4b20-a4f7-d64b5bafb178",
   "metadata": {},
   "source": [
    "이제 Kmeans 알고리즘을 사용하여 카운티 인구를 위에서 만든 5 PCA 속성으로 나눕니다. \n",
    "\n",
    "Kmeans는 속성에 따라 유사한 카운티의 클러스터를 식별하는 클러스터링 알고리즘입니다. \n",
    "\n",
    "원래 데이터 세트에 ~ 3000 개의 카운티와 34 개의 속성이 있기 때문에 큰 기능 공간으로 인해 카운티를 효과적으로 클러스터링하기가 어려웠을 수 있습니다. 대신 기능 공간을 5개의 PCA 구성 요소로 줄였으며 이 변환된 데이터 세트에 클러스터링할 것입니다."
   ]
  },
  {
   "cell_type": "code",
   "execution_count": 36,
   "id": "98c4a07a-880b-41a8-93aa-15fe60b87f5b",
   "metadata": {},
   "outputs": [],
   "source": [
    "train_data = counties_transformed.values.astype('float32')"
   ]
  },
  {
   "cell_type": "markdown",
   "id": "6d426ecc-a05d-4c35-bd9d-c57c1b407493",
   "metadata": {},
   "source": [
    "첫째, PCA 모델로 수행 한 것처럼 KMeans 모델의 하이퍼 매개 변수를 호출하고 정의합니다. \n",
    "Kmeans 알고리즘을 사용하면 사용자가 식별할 클러스터 수를 지정할 수 있습니다. 이 경우 데이터 세트에서 상위 7개 클러스터를 찾아보겠습니다."
   ]
  },
  {
   "cell_type": "code",
   "execution_count": 37,
   "id": "e0bb656d-9c10-465a-95b0-8a0b07debb2d",
   "metadata": {},
   "outputs": [],
   "source": [
    "from sagemaker import KMeans\n",
    "\n",
    "num_clusters = 7\n",
    "kmeans = KMeans(\n",
    "    role=role,\n",
    "    instance_count=1,\n",
    "    instance_type=\"ml.c4.xlarge\",\n",
    "    output_path=\"s3://\" + bucket + \"/counties/\",\n",
    "    k=num_clusters,\n",
    ")"
   ]
  },
  {
   "cell_type": "markdown",
   "id": "78b5b645-7580-4879-bf12-876f0f3c577b",
   "metadata": {},
   "source": [
    "그런 다음 학습 데이터에 대해 모델을 학습합니다."
   ]
  },
  {
   "cell_type": "code",
   "execution_count": 38,
   "id": "dc86ea6a-f106-41c3-bce4-bc5b37f5a341",
   "metadata": {},
   "outputs": [
    {
     "name": "stderr",
     "output_type": "stream",
     "text": [
      "Defaulting to the only supported framework/algorithm version: 1. Ignoring framework/algorithm version: 1.\n",
      "Defaulting to the only supported framework/algorithm version: 1. Ignoring framework/algorithm version: 1.\n"
     ]
    },
    {
     "name": "stdout",
     "output_type": "stream",
     "text": [
      "2022-08-10 03:39:34 Starting - Starting the training job...ProfilerReport-1660102774: InProgress\n",
      "...\n",
      "2022-08-10 03:40:33 Starting - Preparing the instances for training.........\n",
      "2022-08-10 03:41:54 Downloading - Downloading input data...\n",
      "2022-08-10 03:42:34 Training - Downloading the training image.\u001b[34mDocker entrypoint called with argument(s): train\u001b[0m\n",
      "\u001b[34mRunning default environment configuration script\u001b[0m\n",
      "\u001b[34m[08/10/2022 03:42:40 INFO 140678534698816] Reading default configuration from /opt/amazon/lib/python3.7/site-packages/algorithm/resources/default-input.json: {'init_method': 'random', 'mini_batch_size': '5000', 'epochs': '1', 'extra_center_factor': 'auto', 'local_lloyd_max_iter': '300', 'local_lloyd_tol': '0.0001', 'local_lloyd_init_method': 'kmeans++', 'local_lloyd_num_trials': 'auto', 'half_life_time_size': '0', 'eval_metrics': '[\"msd\"]', 'force_dense': 'true', '_disable_wait_to_read': 'false', '_enable_profiler': 'false', '_kvstore': 'auto', '_log_level': 'info', '_num_gpus': 'auto', '_num_kv_servers': '1', '_num_slices': '1', '_tuning_objective_metric': ''}\u001b[0m\n",
      "\u001b[34m[08/10/2022 03:42:40 INFO 140678534698816] Merging with provided configuration from /opt/ml/input/config/hyperparameters.json: {'feature_dim': '5', 'force_dense': 'True', 'k': '7'}\u001b[0m\n",
      "\u001b[34m[08/10/2022 03:42:41 INFO 140678534698816] Final configuration: {'init_method': 'random', 'mini_batch_size': '5000', 'epochs': '1', 'extra_center_factor': 'auto', 'local_lloyd_max_iter': '300', 'local_lloyd_tol': '0.0001', 'local_lloyd_init_method': 'kmeans++', 'local_lloyd_num_trials': 'auto', 'half_life_time_size': '0', 'eval_metrics': '[\"msd\"]', 'force_dense': 'True', '_disable_wait_to_read': 'false', '_enable_profiler': 'false', '_kvstore': 'auto', '_log_level': 'info', '_num_gpus': 'auto', '_num_kv_servers': '1', '_num_slices': '1', '_tuning_objective_metric': '', 'feature_dim': '5', 'k': '7'}\u001b[0m\n",
      "\u001b[34m[08/10/2022 03:42:43 WARNING 140678534698816] Loggers have already been setup.\u001b[0m\n",
      "\u001b[34m[08/10/2022 03:42:43 INFO 140678534698816] Final configuration: {'init_method': 'random', 'mini_batch_size': '5000', 'epochs': '1', 'extra_center_factor': 'auto', 'local_lloyd_max_iter': '300', 'local_lloyd_tol': '0.0001', 'local_lloyd_init_method': 'kmeans++', 'local_lloyd_num_trials': 'auto', 'half_life_time_size': '0', 'eval_metrics': '[\"msd\"]', 'force_dense': 'True', '_disable_wait_to_read': 'false', '_enable_profiler': 'false', '_kvstore': 'auto', '_log_level': 'info', '_num_gpus': 'auto', '_num_kv_servers': '1', '_num_slices': '1', '_tuning_objective_metric': '', 'feature_dim': '5', 'k': '7'}\u001b[0m\n",
      "\u001b[34m[08/10/2022 03:42:43 WARNING 140678534698816] Loggers have already been setup.\u001b[0m\n",
      "\u001b[34mProcess 1 is a worker.\u001b[0m\n",
      "\u001b[34m[08/10/2022 03:42:43 INFO 140678534698816] Using default worker.\u001b[0m\n",
      "\u001b[34m[08/10/2022 03:42:43 INFO 140678534698816] Loaded iterator creator application/x-recordio-protobuf for content type ('application/x-recordio-protobuf', '1.0')\u001b[0m\n",
      "\u001b[34m[08/10/2022 03:42:43 INFO 140678534698816] Create Store: local\u001b[0m\n",
      "\u001b[34m[08/10/2022 03:42:43 INFO 140678534698816] nvidia-smi: took 0.031 seconds to run.\u001b[0m\n",
      "\u001b[34m[08/10/2022 03:42:43 INFO 140678534698816] nvidia-smi identified 0 GPUs.\u001b[0m\n",
      "\u001b[34m[08/10/2022 03:42:43 INFO 140678534698816] Number of GPUs being used: 0\u001b[0m\n",
      "\u001b[34m[08/10/2022 03:42:43 INFO 140678534698816] Checkpoint loading and saving are disabled.\u001b[0m\n",
      "\u001b[34m[08/10/2022 03:42:43 INFO 140678534698816] Setting up with params: {'init_method': 'random', 'mini_batch_size': '5000', 'epochs': '1', 'extra_center_factor': 'auto', 'local_lloyd_max_iter': '300', 'local_lloyd_tol': '0.0001', 'local_lloyd_init_method': 'kmeans++', 'local_lloyd_num_trials': 'auto', 'half_life_time_size': '0', 'eval_metrics': '[\"msd\"]', 'force_dense': 'True', '_disable_wait_to_read': 'false', '_enable_profiler': 'false', '_kvstore': 'auto', '_log_level': 'info', '_num_gpus': 'auto', '_num_kv_servers': '1', '_num_slices': '1', '_tuning_objective_metric': '', 'feature_dim': '5', 'k': '7'}\u001b[0m\n",
      "\u001b[34m[08/10/2022 03:42:43 INFO 140678534698816] 'extra_center_factor' was set to 'auto', evaluated to 10.\u001b[0m\n",
      "\u001b[34m[08/10/2022 03:42:43 INFO 140678534698816] Number of GPUs being used: 0\u001b[0m\n",
      "\u001b[34m[08/10/2022 03:42:43 INFO 140678534698816] number of center slices 1\u001b[0m\n",
      "\u001b[34m[08/10/2022 03:42:43 WARNING 140678534698816] Batch size 5000 is bigger than the first batch data. Effective batch size used to initialize is 3218\u001b[0m\n",
      "\u001b[34m#metrics {\"StartTime\": 1660102963.9437602, \"EndTime\": 1660102963.9437895, \"Dimensions\": {\"Algorithm\": \"AWS/KMeansWebscale\", \"Host\": \"algo-1\", \"Operation\": \"training\", \"Meta\": \"init_train_data_iter\"}, \"Metrics\": {\"Total Records Seen\": {\"sum\": 3218.0, \"count\": 1, \"min\": 3218, \"max\": 3218}, \"Total Batches Seen\": {\"sum\": 1.0, \"count\": 1, \"min\": 1, \"max\": 1}, \"Max Records Seen Between Resets\": {\"sum\": 3218.0, \"count\": 1, \"min\": 3218, \"max\": 3218}, \"Max Batches Seen Between Resets\": {\"sum\": 1.0, \"count\": 1, \"min\": 1, \"max\": 1}, \"Reset Count\": {\"sum\": 0.0, \"count\": 1, \"min\": 0, \"max\": 0}, \"Number of Records Since Last Reset\": {\"sum\": 3218.0, \"count\": 1, \"min\": 3218, \"max\": 3218}, \"Number of Batches Since Last Reset\": {\"sum\": 1.0, \"count\": 1, \"min\": 1, \"max\": 1}}}\u001b[0m\n",
      "\u001b[34m[2022-08-10 03:42:43.944] [tensorio] [info] epoch_stats={\"data_pipeline\": \"/opt/ml/input/data/train\", \"epoch\": 0, \"duration\": 33, \"num_examples\": 1, \"num_bytes\": 141592}\u001b[0m\n",
      "\u001b[34m[2022-08-10 03:42:43.991] [tensorio] [info] epoch_stats={\"data_pipeline\": \"/opt/ml/input/data/train\", \"epoch\": 1, \"duration\": 46, \"num_examples\": 1, \"num_bytes\": 141592}\u001b[0m\n",
      "\u001b[34m[08/10/2022 03:42:43 INFO 140678534698816] processed a total of 3218 examples\u001b[0m\n",
      "\u001b[34m[08/10/2022 03:42:43 INFO 140678534698816] #progress_metric: host=algo-1, completed 100.0 % of epochs\u001b[0m\n",
      "\u001b[34m#metrics {\"StartTime\": 1660102963.9442906, \"EndTime\": 1660102963.992174, \"Dimensions\": {\"Algorithm\": \"AWS/KMeansWebscale\", \"Host\": \"algo-1\", \"Operation\": \"training\", \"epoch\": 0, \"Meta\": \"training_data_iter\"}, \"Metrics\": {\"Total Records Seen\": {\"sum\": 6436.0, \"count\": 1, \"min\": 6436, \"max\": 6436}, \"Total Batches Seen\": {\"sum\": 2.0, \"count\": 1, \"min\": 2, \"max\": 2}, \"Max Records Seen Between Resets\": {\"sum\": 3218.0, \"count\": 1, \"min\": 3218, \"max\": 3218}, \"Max Batches Seen Between Resets\": {\"sum\": 1.0, \"count\": 1, \"min\": 1, \"max\": 1}, \"Reset Count\": {\"sum\": 1.0, \"count\": 1, \"min\": 1, \"max\": 1}, \"Number of Records Since Last Reset\": {\"sum\": 3218.0, \"count\": 1, \"min\": 3218, \"max\": 3218}, \"Number of Batches Since Last Reset\": {\"sum\": 1.0, \"count\": 1, \"min\": 1, \"max\": 1}}}\u001b[0m\n",
      "\u001b[34m[08/10/2022 03:42:43 INFO 140678534698816] #throughput_metric: host=algo-1, train throughput=67026.88208331885 records/second\u001b[0m\n",
      "\u001b[34m[08/10/2022 03:42:43 WARNING 140678534698816] wait_for_all_workers will not sync workers since the kv store is not running distributed\u001b[0m\n",
      "\u001b[34m[08/10/2022 03:42:43 INFO 140678534698816] shrinking 70 centers into 7\u001b[0m\n",
      "\u001b[34m[08/10/2022 03:42:44 INFO 140678534698816] local kmeans attempt #0. Current mean square distance 0.057960\u001b[0m\n",
      "\u001b[34m[08/10/2022 03:42:44 INFO 140678534698816] local kmeans attempt #1. Current mean square distance 0.055310\u001b[0m\n",
      "\u001b[34m[08/10/2022 03:42:44 INFO 140678534698816] local kmeans attempt #2. Current mean square distance 0.060655\u001b[0m\n",
      "\u001b[34m[08/10/2022 03:42:44 INFO 140678534698816] local kmeans attempt #3. Current mean square distance 0.055318\u001b[0m\n",
      "\u001b[34m[08/10/2022 03:42:44 INFO 140678534698816] local kmeans attempt #4. Current mean square distance 0.056495\u001b[0m\n",
      "\u001b[34m[08/10/2022 03:42:44 INFO 140678534698816] local kmeans attempt #5. Current mean square distance 0.055536\u001b[0m\n",
      "\u001b[34m[08/10/2022 03:42:44 INFO 140678534698816] local kmeans attempt #6. Current mean square distance 0.056482\u001b[0m\n",
      "\u001b[34m[08/10/2022 03:42:44 INFO 140678534698816] local kmeans attempt #7. Current mean square distance 0.062462\u001b[0m\n",
      "\u001b[34m[08/10/2022 03:42:44 INFO 140678534698816] local kmeans attempt #8. Current mean square distance 0.057660\u001b[0m\n",
      "\u001b[34m[08/10/2022 03:42:44 INFO 140678534698816] local kmeans attempt #9. Current mean square distance 0.063284\u001b[0m\n",
      "\u001b[34m[08/10/2022 03:42:44 INFO 140678534698816] finished shrinking process. Mean Square Distance = 0\u001b[0m\n",
      "\u001b[34m[08/10/2022 03:42:44 INFO 140678534698816] #quality_metric: host=algo-1, train msd <loss>=0.05530993267893791\u001b[0m\n",
      "\u001b[34m[08/10/2022 03:42:44 INFO 140678534698816] compute all data-center distances: inner product took: 34.5315%, (0.019202 secs)\u001b[0m\n",
      "\u001b[34m[08/10/2022 03:42:44 INFO 140678534698816] collect from kv store took: 15.8374%, (0.008807 secs)\u001b[0m\n",
      "\u001b[34m[08/10/2022 03:42:44 INFO 140678534698816] splitting centers key-value pair took: 15.6329%, (0.008693 secs)\u001b[0m\n",
      "\u001b[34m[08/10/2022 03:42:44 INFO 140678534698816] batch data loading with context took: 6.7231%, (0.003739 secs)\u001b[0m\n",
      "\u001b[34m[08/10/2022 03:42:44 INFO 140678534698816] predict compute msd took: 6.4629%, (0.003594 secs)\u001b[0m\n",
      "\u001b[34m[08/10/2022 03:42:44 INFO 140678534698816] gradient: one_hot took: 6.4325%, (0.003577 secs)\u001b[0m\n",
      "\u001b[34m[08/10/2022 03:42:44 INFO 140678534698816] compute all data-center distances: point norm took: 6.0119%, (0.003343 secs)\u001b[0m\n",
      "\u001b[34m[08/10/2022 03:42:44 INFO 140678534698816] update state and report convergance took: 2.8644%, (0.001593 secs)\u001b[0m\n",
      "\u001b[34m[08/10/2022 03:42:44 INFO 140678534698816] gradient: cluster size  took: 2.8507%, (0.001585 secs)\u001b[0m\n",
      "\u001b[34m[08/10/2022 03:42:44 INFO 140678534698816] gradient: cluster center took: 1.7360%, (0.000965 secs)\u001b[0m\n",
      "\u001b[34m[08/10/2022 03:42:44 INFO 140678534698816] update set-up time took: 0.5814%, (0.000323 secs)\u001b[0m\n",
      "\u001b[34m[08/10/2022 03:42:44 INFO 140678534698816] compute all data-center distances: center norm took: 0.2748%, (0.000153 secs)\u001b[0m\n",
      "\u001b[34m[08/10/2022 03:42:44 INFO 140678534698816] predict minus dist took: 0.0605%, (0.000034 secs)\u001b[0m\n",
      "\u001b[34m[08/10/2022 03:42:44 INFO 140678534698816] TOTAL took: 0.055608510971069336\u001b[0m\n",
      "\u001b[34m[08/10/2022 03:42:44 INFO 140678534698816] Number of GPUs being used: 0\u001b[0m\n",
      "\u001b[34m#metrics {\"StartTime\": 1660102963.9100542, \"EndTime\": 1660102964.3531234, \"Dimensions\": {\"Algorithm\": \"AWS/KMeansWebscale\", \"Host\": \"algo-1\", \"Operation\": \"training\"}, \"Metrics\": {\"initialize.time\": {\"sum\": 27.794599533081055, \"count\": 1, \"min\": 27.794599533081055, \"max\": 27.794599533081055}, \"epochs\": {\"sum\": 1.0, \"count\": 1, \"min\": 1, \"max\": 1}, \"update.time\": {\"sum\": 47.63007164001465, \"count\": 1, \"min\": 47.63007164001465, \"max\": 47.63007164001465}, \"_shrink.time\": {\"sum\": 356.3838005065918, \"count\": 1, \"min\": 356.3838005065918, \"max\": 356.3838005065918}, \"finalize.time\": {\"sum\": 358.31642150878906, \"count\": 1, \"min\": 358.31642150878906, \"max\": 358.31642150878906}, \"model.serialize.time\": {\"sum\": 2.2683143615722656, \"count\": 1, \"min\": 2.2683143615722656, \"max\": 2.2683143615722656}}}\u001b[0m\n",
      "\u001b[34m[08/10/2022 03:42:44 INFO 140678534698816] Test data is not provided.\u001b[0m\n",
      "\u001b[34m#metrics {\"StartTime\": 1660102964.3533077, \"EndTime\": 1660102964.3536088, \"Dimensions\": {\"Algorithm\": \"AWS/KMeansWebscale\", \"Host\": \"algo-1\", \"Operation\": \"training\"}, \"Metrics\": {\"setuptime\": {\"sum\": 4.434108734130859, \"count\": 1, \"min\": 4.434108734130859, \"max\": 4.434108734130859}, \"totaltime\": {\"sum\": 501.7247200012207, \"count\": 1, \"min\": 501.7247200012207, \"max\": 501.7247200012207}}}\u001b[0m\n",
      "\n",
      "2022-08-10 03:43:03 Uploading - Uploading generated training model\n",
      "2022-08-10 03:43:03 Completed - Training job completed\n",
      "Training seconds: 87\n",
      "Billable seconds: 87\n",
      "CPU times: user 613 ms, sys: 0 ns, total: 613 ms\n",
      "Wall time: 3min 42s\n"
     ]
    }
   ],
   "source": [
    "%%time\n",
    "kmeans.fit(kmeans.record_set(train_data))"
   ]
  },
  {
   "cell_type": "markdown",
   "id": "eaf3d017-5c63-40ce-9e09-05385ce38d49",
   "metadata": {},
   "source": [
    "이제 모델을 배포하고 원래 학습 집합을 전달하여 각 항목의 레이블을 가져올 수 있습니다. 이렇게하면 각 카운티가 속한 클러스터가 제공됩니다."
   ]
  },
  {
   "cell_type": "code",
   "execution_count": 40,
   "id": "d66dd75c-4078-4707-9e40-b72df562b0a9",
   "metadata": {},
   "outputs": [
    {
     "name": "stderr",
     "output_type": "stream",
     "text": [
      "Defaulting to the only supported framework/algorithm version: 1. Ignoring framework/algorithm version: 1.\n"
     ]
    },
    {
     "name": "stdout",
     "output_type": "stream",
     "text": [
      "--------!CPU times: user 336 ms, sys: 17.8 ms, total: 353 ms\n",
      "Wall time: 4min 2s\n"
     ]
    }
   ],
   "source": [
    "%%time\n",
    "kmeans_predictor = kmeans.deploy(initial_instance_count=1, \n",
    "                                 instance_type='ml.t2.medium')\n",
    "\n",
    "result=kmeans_predictor.predict(train_data)"
   ]
  },
  {
   "cell_type": "markdown",
   "id": "9c634172-7e45-4a95-bd53-8ae280c012f8",
   "metadata": {},
   "source": [
    "클러스터 수의 분석과 클러스터의 분포를 확인해 봅니다."
   ]
  },
  {
   "cell_type": "code",
   "execution_count": 41,
   "id": "8cb5f879-33be-49ca-a5f7-93a6c7e51177",
   "metadata": {},
   "outputs": [
    {
     "data": {
      "text/plain": [
       "4.0    910\n",
       "0.0    759\n",
       "3.0    497\n",
       "2.0    437\n",
       "6.0    325\n",
       "5.0    190\n",
       "1.0    100\n",
       "Name: 0, dtype: int64"
      ]
     },
     "execution_count": 41,
     "metadata": {},
     "output_type": "execute_result"
    }
   ],
   "source": [
    "cluster_labels = [r.label['closest_cluster'].float32_tensor.values[0] for r in result]\n",
    "pd.DataFrame(cluster_labels)[0].value_counts()"
   ]
  },
  {
   "cell_type": "code",
   "execution_count": 42,
   "id": "f2a2ea92-ec9f-43b7-95e9-35963c57d129",
   "metadata": {},
   "outputs": [
    {
     "name": "stderr",
     "output_type": "stream",
     "text": [
      "/home/ec2-user/anaconda3/envs/mxnet_p37/lib/python3.7/site-packages/seaborn/distributions.py:2557: FutureWarning: `distplot` is a deprecated function and will be removed in a future version. Please adapt your code to use either `displot` (a figure-level function with similar flexibility) or `histplot` (an axes-level function for histograms).\n",
      "  warnings.warn(msg, FutureWarning)\n"
     ]
    },
    {
     "data": {
      "image/png": "[encoded data removed]",
      "text/plain": [
       "<Figure size 600x300 with 1 Axes>"
      ]
     },
     "metadata": {},
     "output_type": "display_data"
    }
   ],
   "source": [
    "ax=plt.subplots(figsize=(6,3))\n",
    "ax=sns.distplot(cluster_labels, kde=False)\n",
    "title=\"Histogram of Cluster Counts\"\n",
    "ax.set_title(title, fontsize=12)\n",
    "plt.show()"
   ]
  },
  {
   "cell_type": "markdown",
   "id": "e708a1fa-025d-4686-8a29-49ef7de91594",
   "metadata": {},
   "source": [
    "그러나 설명 가능성을 높이려면 클러스터 센터를 가져오기 위해 기본 모델에 액세스해야 합니다. 이 센터는 각 클러스터를 특징 짓는 기능을 설명하는 데 도움이됩니다."
   ]
  },
  {
   "cell_type": "markdown",
   "id": "c1c1c6f8-7628-4a50-8372-3ae9129e03ee",
   "metadata": {},
   "source": [
    "# 4단계 : 모델링에서 결론 도출"
   ]
  },
  {
   "cell_type": "markdown",
   "id": "e673fd55-ae12-4431-84af-b36b02c1c061",
   "metadata": {},
   "source": [
    "모델링 결과를 설명하는 것은 분석을 활용하는 데 중요한 단계 입니다.\n",
    "\n",
    "PCA와 KMeans, 그리고 Amazon SageMaker에서 학습된 모델 내의 모델 속성에 포함된 정보를 결합하여 데이터를 기반으로 구체적인 결론을 도출할 수 있습니다."
   ]
  },
  {
   "cell_type": "markdown",
   "id": "39c924b8-ec37-41e1-b8c2-d91bb82005c1",
   "metadata": {},
   "source": [
    "## a. KMeans 모델 속성에 액세스"
   ]
  },
  {
   "cell_type": "code",
   "execution_count": 43,
   "id": "8c60dc6d-b49d-4e1c-a569-5367c608bd79",
   "metadata": {},
   "outputs": [],
   "source": [
    "# KMeans 모델이 저장된 버킷으로 이동하여 추출합니다.\n",
    "\n",
    "job_name = kmeans.latest_training_job.name\n",
    "model_key = \"counties/\" + job_name + \"/output/model.tar.gz\"\n",
    "\n",
    "boto3.resource(\"s3\").Bucket(bucket).download_file(model_key, \"model.tar.gz\")\n",
    "os.system(\"tar -zxvf model.tar.gz\")\n",
    "Kmeans_model_params = mx.ndarray.load(\"model_algo-1\")"
   ]
  },
  {
   "cell_type": "markdown",
   "id": "6020bd79-1d4b-496c-878f-56e613886b01",
   "metadata": {},
   "source": [
    "KMeans 모델에 포함된 1개의 모델 매개변수 세트가 있습니다.\n",
    "\n",
    "Cluster Centroid Locations: KMeans 알고리즘으로 식별되는 각 클러스터의 중심 위치 입니다.\n",
    "\n",
    "클러스터 위치는 변환된 PCA 데이터를 모델에 전달했기 때문에 5개의 구성 요소가 있는 PCA 변환 공간에 제공됩니다."
   ]
  },
  {
   "cell_type": "code",
   "execution_count": 44,
   "id": "06005b92-563f-414e-90a1-fb14615acb19",
   "metadata": {},
   "outputs": [
    {
     "data": {
      "text/html": [
       "<div>\n",
       "<style scoped>\n",
       "    .dataframe tbody tr th:only-of-type {\n",
       "        vertical-align: middle;\n",
       "    }\n",
       "\n",
       "    .dataframe tbody tr th {\n",
       "        vertical-align: top;\n",
       "    }\n",
       "\n",
       "    .dataframe thead th {\n",
       "        text-align: right;\n",
       "    }\n",
       "</style>\n",
       "<table border=\"1\" class=\"dataframe\">\n",
       "  <thead>\n",
       "    <tr style=\"text-align: right;\">\n",
       "      <th></th>\n",
       "      <th>comp_1</th>\n",
       "      <th>comp_2</th>\n",
       "      <th>comp_3</th>\n",
       "      <th>comp_4</th>\n",
       "      <th>comp_5</th>\n",
       "    </tr>\n",
       "  </thead>\n",
       "  <tbody>\n",
       "    <tr>\n",
       "      <th>0</th>\n",
       "      <td>-0.043530</td>\n",
       "      <td>-0.053409</td>\n",
       "      <td>-0.058860</td>\n",
       "      <td>0.056648</td>\n",
       "      <td>-0.232412</td>\n",
       "    </tr>\n",
       "    <tr>\n",
       "      <th>1</th>\n",
       "      <td>-0.089946</td>\n",
       "      <td>-0.395695</td>\n",
       "      <td>-0.190531</td>\n",
       "      <td>-0.258825</td>\n",
       "      <td>1.225143</td>\n",
       "    </tr>\n",
       "    <tr>\n",
       "      <th>2</th>\n",
       "      <td>0.074711</td>\n",
       "      <td>0.219130</td>\n",
       "      <td>0.099540</td>\n",
       "      <td>0.173169</td>\n",
       "      <td>0.354615</td>\n",
       "    </tr>\n",
       "    <tr>\n",
       "      <th>3</th>\n",
       "      <td>0.010647</td>\n",
       "      <td>0.078214</td>\n",
       "      <td>0.085763</td>\n",
       "      <td>-0.332010</td>\n",
       "      <td>-0.162639</td>\n",
       "    </tr>\n",
       "    <tr>\n",
       "      <th>4</th>\n",
       "      <td>-0.023323</td>\n",
       "      <td>-0.078156</td>\n",
       "      <td>0.131917</td>\n",
       "      <td>0.121215</td>\n",
       "      <td>-0.069331</td>\n",
       "    </tr>\n",
       "    <tr>\n",
       "      <th>5</th>\n",
       "      <td>0.199120</td>\n",
       "      <td>-0.236533</td>\n",
       "      <td>-0.119520</td>\n",
       "      <td>-0.176573</td>\n",
       "      <td>0.339902</td>\n",
       "    </tr>\n",
       "    <tr>\n",
       "      <th>6</th>\n",
       "      <td>-0.023339</td>\n",
       "      <td>0.104614</td>\n",
       "      <td>-0.394810</td>\n",
       "      <td>0.041037</td>\n",
       "      <td>-0.070059</td>\n",
       "    </tr>\n",
       "  </tbody>\n",
       "</table>\n",
       "</div>"
      ],
      "text/plain": [
       "     comp_1    comp_2    comp_3    comp_4    comp_5\n",
       "0 -0.043530 -0.053409 -0.058860  0.056648 -0.232412\n",
       "1 -0.089946 -0.395695 -0.190531 -0.258825  1.225143\n",
       "2  0.074711  0.219130  0.099540  0.173169  0.354615\n",
       "3  0.010647  0.078214  0.085763 -0.332010 -0.162639\n",
       "4 -0.023323 -0.078156  0.131917  0.121215 -0.069331\n",
       "5  0.199120 -0.236533 -0.119520 -0.176573  0.339902\n",
       "6 -0.023339  0.104614 -0.394810  0.041037 -0.070059"
      ]
     },
     "execution_count": 44,
     "metadata": {},
     "output_type": "execute_result"
    }
   ],
   "source": [
    "cluster_centroids=pd.DataFrame(Kmeans_model_params[0].asnumpy())\n",
    "cluster_centroids.columns=counties_transformed.columns\n",
    "cluster_centroids"
   ]
  },
  {
   "cell_type": "markdown",
   "id": "8d8ccc0a-e508-4774-b2bf-c1dca7a631ab",
   "metadata": {},
   "source": [
    "변환된 피쳐 공간에서 중심과 그 위치의 히트맵을 그릴 수 있습니다. 이를 통해 각 클러스터를 정의하는 특성에 대한 통찰력을 얻을 수 있습니다. 종종 감독되지 않은 학습으로 인해 결과를 해석하기가 어렵습니다. 이것은 PCA 플러스 클러스터링 기술의 결과를 함께 활용하는 한 가지 방법입니다. 우리는 각 PCA 구성 요소의 구성을 검사 할 수 있었기 때문에 이전에 통합 한 PCA 구성 요소의 관점에서 각 중심이 무엇을 나타내는지 이해할 수 있습니다.\n",
    "\n",
    "예를 들어, 클러스터 1은 \"건설 및 통근자\" 속성에서 가장 높은 값을 가지며 다른 클러스터와 비교하여 \"자영업/공공 근로자\" 특성에서 가장 낮은 값을 갖는 것을 볼 수 있습니다. 마찬가지로 클러스터 4는 \"건설 및 통근자\", \"고소득 / 전문 및 사무직 근로자\"및 \"자영업 / 공공 근로자\"에서 높은 가치를 지닙니다."
   ]
  },
  {
   "cell_type": "code",
   "execution_count": 45,
   "id": "07016a7d-ba6d-4ab5-9c94-3f9f3e1c82e5",
   "metadata": {},
   "outputs": [
    {
     "data": {
      "image/png": "[encoded data removed]",
      "text/plain": [
       "<Figure size 1600x600 with 2 Axes>"
      ]
     },
     "metadata": {},
     "output_type": "display_data"
    }
   ],
   "source": [
    "plt.figure(figsize = (16, 6))\n",
    "ax = sns.heatmap(cluster_centroids.T, cmap = 'YlGnBu')\n",
    "ax.set_xlabel(\"Cluster\")\n",
    "plt.yticks(fontsize = 16)\n",
    "plt.xticks(fontsize = 16)\n",
    "ax.set_title(\"Attribute Value by Centroid\")\n",
    "plt.show()"
   ]
  },
  {
   "cell_type": "markdown",
   "id": "f7fb7d0f-2f52-4d00-a537-7236eb86bbcb",
   "metadata": {},
   "source": [
    "또한 클러스터 레이블을 각 개별 카운티에 다시 매핑하고 자연스럽게 그룹화 된 카운티를 조사할 수 있습니다.\n",
    "\n",
    "comp_1 : Poverty/Unemployment\n",
    "\n",
    "comp_2 : Self Employment/Public Workers\n",
    "\n",
    "comp_3 : High Income/Professional & Office Workers\n",
    "\n",
    "comp_4 : Black/Native Am Populations & Public/Professional Workers\n",
    "\n",
    "comp_5 : Construction & Commuters"
   ]
  },
  {
   "cell_type": "code",
   "execution_count": 46,
   "id": "b7619ffc-8376-4002-8d34-277f0cc977f8",
   "metadata": {},
   "outputs": [
    {
     "data": {
      "text/html": [
       "<div>\n",
       "<style scoped>\n",
       "    .dataframe tbody tr th:only-of-type {\n",
       "        vertical-align: middle;\n",
       "    }\n",
       "\n",
       "    .dataframe tbody tr th {\n",
       "        vertical-align: top;\n",
       "    }\n",
       "\n",
       "    .dataframe thead th {\n",
       "        text-align: right;\n",
       "    }\n",
       "</style>\n",
       "<table border=\"1\" class=\"dataframe\">\n",
       "  <thead>\n",
       "    <tr style=\"text-align: right;\">\n",
       "      <th></th>\n",
       "      <th>comp_1</th>\n",
       "      <th>comp_2</th>\n",
       "      <th>comp_3</th>\n",
       "      <th>comp_4</th>\n",
       "      <th>comp_5</th>\n",
       "      <th>labels</th>\n",
       "    </tr>\n",
       "  </thead>\n",
       "  <tbody>\n",
       "    <tr>\n",
       "      <th>Alabama-Autauga</th>\n",
       "      <td>-0.010824</td>\n",
       "      <td>0.120480</td>\n",
       "      <td>-0.088356</td>\n",
       "      <td>0.160527</td>\n",
       "      <td>-0.060274</td>\n",
       "      <td>0</td>\n",
       "    </tr>\n",
       "    <tr>\n",
       "      <th>Alabama-Baldwin</th>\n",
       "      <td>-0.068677</td>\n",
       "      <td>-0.023092</td>\n",
       "      <td>-0.145743</td>\n",
       "      <td>0.185969</td>\n",
       "      <td>-0.149684</td>\n",
       "      <td>0</td>\n",
       "    </tr>\n",
       "    <tr>\n",
       "      <th>Alabama-Barbour</th>\n",
       "      <td>0.093111</td>\n",
       "      <td>0.297829</td>\n",
       "      <td>0.146258</td>\n",
       "      <td>0.296662</td>\n",
       "      <td>0.506202</td>\n",
       "      <td>2</td>\n",
       "    </tr>\n",
       "    <tr>\n",
       "      <th>Alabama-Bibb</th>\n",
       "      <td>0.283526</td>\n",
       "      <td>0.011757</td>\n",
       "      <td>0.224402</td>\n",
       "      <td>0.190861</td>\n",
       "      <td>0.069224</td>\n",
       "      <td>4</td>\n",
       "    </tr>\n",
       "    <tr>\n",
       "      <th>Alabama-Blount</th>\n",
       "      <td>0.100738</td>\n",
       "      <td>-0.193824</td>\n",
       "      <td>0.022714</td>\n",
       "      <td>0.254403</td>\n",
       "      <td>-0.091030</td>\n",
       "      <td>4</td>\n",
       "    </tr>\n",
       "  </tbody>\n",
       "</table>\n",
       "</div>"
      ],
      "text/plain": [
       "                   comp_1    comp_2    comp_3    comp_4    comp_5  labels\n",
       "Alabama-Autauga -0.010824  0.120480 -0.088356  0.160527 -0.060274       0\n",
       "Alabama-Baldwin -0.068677 -0.023092 -0.145743  0.185969 -0.149684       0\n",
       "Alabama-Barbour  0.093111  0.297829  0.146258  0.296662  0.506202       2\n",
       "Alabama-Bibb     0.283526  0.011757  0.224402  0.190861  0.069224       4\n",
       "Alabama-Blount   0.100738 -0.193824  0.022714  0.254403 -0.091030       4"
      ]
     },
     "execution_count": 46,
     "metadata": {},
     "output_type": "execute_result"
    }
   ],
   "source": [
    "counties_transformed['labels']=list(map(int, cluster_labels))\n",
    "counties_transformed.head()"
   ]
  },
  {
   "cell_type": "markdown",
   "id": "8938aa60-eea9-4007-9e76-fd766b1e7f0e",
   "metadata": {},
   "source": [
    "이제 클러스터 1과 같이 클러스터 중 하나를 더 자세히 살펴볼 수 있습니다. 중심형의 위치를 자세히 살펴보면 \"건설 및 통근자\"(comp_5)속성에 대해 가장 높은 값을 가지고 있음을 알 수 있습니다. 이제 어떤 카운티가 해당 설명에 적합한지 확인할 수 있습니다."
   ]
  },
  {
   "cell_type": "code",
   "execution_count": 47,
   "id": "05d8b03d-0b0f-4f36-a271-16251724bfc4",
   "metadata": {},
   "outputs": [
    {
     "data": {
      "text/html": [
       "<div>\n",
       "<style scoped>\n",
       "    .dataframe tbody tr th:only-of-type {\n",
       "        vertical-align: middle;\n",
       "    }\n",
       "\n",
       "    .dataframe tbody tr th {\n",
       "        vertical-align: top;\n",
       "    }\n",
       "\n",
       "    .dataframe thead th {\n",
       "        text-align: right;\n",
       "    }\n",
       "</style>\n",
       "<table border=\"1\" class=\"dataframe\">\n",
       "  <thead>\n",
       "    <tr style=\"text-align: right;\">\n",
       "      <th></th>\n",
       "      <th>comp_1</th>\n",
       "      <th>comp_2</th>\n",
       "      <th>comp_3</th>\n",
       "      <th>comp_4</th>\n",
       "      <th>comp_5</th>\n",
       "      <th>labels</th>\n",
       "    </tr>\n",
       "  </thead>\n",
       "  <tbody>\n",
       "    <tr>\n",
       "      <th>Arizona-Santa Cruz</th>\n",
       "      <td>-0.014149</td>\n",
       "      <td>-0.347113</td>\n",
       "      <td>-0.386305</td>\n",
       "      <td>-0.284937</td>\n",
       "      <td>0.753071</td>\n",
       "      <td>1</td>\n",
       "    </tr>\n",
       "    <tr>\n",
       "      <th>California-Imperial</th>\n",
       "      <td>-0.015831</td>\n",
       "      <td>-0.291125</td>\n",
       "      <td>-0.296619</td>\n",
       "      <td>-0.279273</td>\n",
       "      <td>0.885126</td>\n",
       "      <td>1</td>\n",
       "    </tr>\n",
       "    <tr>\n",
       "      <th>New Mexico-Mora</th>\n",
       "      <td>0.062434</td>\n",
       "      <td>-0.124934</td>\n",
       "      <td>-0.162434</td>\n",
       "      <td>-0.637112</td>\n",
       "      <td>0.829913</td>\n",
       "      <td>1</td>\n",
       "    </tr>\n",
       "    <tr>\n",
       "      <th>New Mexico-Rio Arriba</th>\n",
       "      <td>-0.072426</td>\n",
       "      <td>-0.075995</td>\n",
       "      <td>-0.274184</td>\n",
       "      <td>-0.471792</td>\n",
       "      <td>0.827892</td>\n",
       "      <td>1</td>\n",
       "    </tr>\n",
       "    <tr>\n",
       "      <th>New Mexico-San Miguel</th>\n",
       "      <td>-0.143846</td>\n",
       "      <td>-0.146673</td>\n",
       "      <td>-0.221657</td>\n",
       "      <td>-0.467999</td>\n",
       "      <td>0.846824</td>\n",
       "      <td>1</td>\n",
       "    </tr>\n",
       "  </tbody>\n",
       "</table>\n",
       "</div>"
      ],
      "text/plain": [
       "                         comp_1    comp_2    comp_3    comp_4    comp_5  \\\n",
       "Arizona-Santa Cruz    -0.014149 -0.347113 -0.386305 -0.284937  0.753071   \n",
       "California-Imperial   -0.015831 -0.291125 -0.296619 -0.279273  0.885126   \n",
       "New Mexico-Mora        0.062434 -0.124934 -0.162434 -0.637112  0.829913   \n",
       "New Mexico-Rio Arriba -0.072426 -0.075995 -0.274184 -0.471792  0.827892   \n",
       "New Mexico-San Miguel -0.143846 -0.146673 -0.221657 -0.467999  0.846824   \n",
       "\n",
       "                       labels  \n",
       "Arizona-Santa Cruz          1  \n",
       "California-Imperial         1  \n",
       "New Mexico-Mora             1  \n",
       "New Mexico-Rio Arriba       1  \n",
       "New Mexico-San Miguel       1  "
      ]
     },
     "execution_count": 47,
     "metadata": {},
     "output_type": "execute_result"
    }
   ],
   "source": [
    "cluster=counties_transformed[counties_transformed['labels']==1]\n",
    "cluster.head(5)"
   ]
  },
  {
   "cell_type": "markdown",
   "id": "d657b300-5337-4c07-99cf-24de1ca2b0f7",
   "metadata": {},
   "source": [
    "# 결론"
   ]
  },
  {
   "cell_type": "markdown",
   "id": "deba2f92-efec-4eaf-897d-b9492404d5b5",
   "metadata": {},
   "source": [
    "방금 감독되지 않은 학습을위한 데이터 과학 워크플로우를 진행했으며, 특히 PCA를 사용하여 차원을 줄인 후 KMean을 사용하여 데이터 세트를 클러스터링했습니다. \n",
    "\n",
    "Amazon SageMaker에서 생성된 기본 모델에 액세스함으로써 모델링의 설명 가능성을 개선하고 실행 가능한 결론을 도출할 수 있었습니다. \n",
    "\n",
    "이러한 기술을 사용하여 우리는 미국의 여러 카운티의 본질적인 특성을 더 잘 이해하고 유권자를 그에 따라 그룹으로 나눌 수있었습니다."
   ]
  },
  {
   "cell_type": "markdown",
   "id": "737e914d-4e74-414a-a780-6cf30abff80b",
   "metadata": {},
   "source": [
    "<b><i>엔드포인트는 영구적이므로 AWS 청구서에 초과 요금이 부과되지 않도록 완료되었으므로 이제 엔드포인트를 삭제해 보겠습니다."
   ]
  },
  {
   "cell_type": "code",
   "execution_count": 48,
   "id": "a7ee388f-978a-44b0-ac43-d69f75b311b6",
   "metadata": {},
   "outputs": [],
   "source": [
    "pca_predictor.delete_endpoint()\n",
    "kmeans_predictor.delete_endpoint()"
   ]
  },
  {
   "cell_type": "code",
   "execution_count": null,
   "id": "150e62e0-8c9e-40ea-8838-b40e2ee94d3e",
   "metadata": {},
   "outputs": [],
   "source": []
  }
 ],
 "metadata": {
  "kernelspec": {
   "display_name": "conda_mxnet_p37",
   "language": "python",
   "name": "conda_mxnet_p37"
  },
  "language_info": {
   "codemirror_mode": {
    "name": "ipython",
    "version": 3
   },
   "file_extension": ".py",
   "mimetype": "text/x-python",
   "name": "python",
   "nbconvert_exporter": "python",
   "pygments_lexer": "ipython3",
   "version": "3.7.10"
  }
 },
 "nbformat": 4,
 "nbformat_minor": 5
}
